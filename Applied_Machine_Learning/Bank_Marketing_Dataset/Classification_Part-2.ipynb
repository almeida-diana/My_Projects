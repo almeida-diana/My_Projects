{
 "cells": [
  {
   "cell_type": "markdown",
   "metadata": {},
   "source": [
    "## Importing Libraries"
   ]
  },
  {
   "cell_type": "code",
   "execution_count": 1,
   "metadata": {},
   "outputs": [
    {
     "name": "stderr",
     "output_type": "stream",
     "text": [
      "c:\\users\\vnrak\\appdata\\local\\programs\\python\\python36\\lib\\site-packages\\sklearn\\externals\\six.py:31: DeprecationWarning: The module is deprecated in version 0.21 and will be removed in version 0.23 since we've dropped support for Python 2.7. Please rely on the official version of six (https://pypi.org/project/six/).\n",
      "  \"(https://pypi.org/project/six/).\", DeprecationWarning)\n",
      "c:\\users\\vnrak\\appdata\\local\\programs\\python\\python36\\lib\\site-packages\\sklearn\\externals\\joblib\\__init__.py:15: DeprecationWarning: sklearn.externals.joblib is deprecated in 0.21 and will be removed in 0.23. Please import this functionality directly from joblib, which can be installed with: pip install joblib. If this warning is raised when loading pickled models, you may need to re-serialize those models with scikit-learn 0.21+.\n",
      "  warnings.warn(msg, category=DeprecationWarning)\n"
     ]
    }
   ],
   "source": [
    "import numpy as np\n",
    "import pandas as pd\n",
    "import matplotlib.pyplot as plt\n",
    "import seaborn as sns\n",
    "import mglearn\n",
    "import pydotplus\n",
    "from sklearn.model_selection import train_test_split\n",
    "from sklearn.preprocessing import MinMaxScaler\n",
    "from sklearn.metrics import classification_report, confusion_matrix\n",
    "from sklearn.tree import export_graphviz\n",
    "from PIL import *\n",
    "import graphviz\n",
    "%matplotlib inline\n",
    "import warnings\n",
    "warnings.filterwarnings('ignore')"
   ]
  },
  {
   "cell_type": "markdown",
   "metadata": {},
   "source": [
    "## Loading Datasets"
   ]
  },
  {
   "cell_type": "code",
   "execution_count": 2,
   "metadata": {},
   "outputs": [
    {
     "data": {
      "text/plain": [
       "Index(['age', 'job', 'marital', 'education', 'default', 'balance', 'housing',\n",
       "       'loan', 'contact', 'day', 'month', 'duration', 'campaign', 'pdays',\n",
       "       'previous', 'poutcome', 'y'],\n",
       "      dtype='object')"
      ]
     },
     "execution_count": 2,
     "metadata": {},
     "output_type": "execute_result"
    }
   ],
   "source": [
    "data= pd.read_csv('bank.csv',encoding=\"ISO-8859-1\")\n",
    "data.columns\n"
   ]
  },
  {
   "cell_type": "code",
   "execution_count": 3,
   "metadata": {},
   "outputs": [
    {
     "name": "stdout",
     "output_type": "stream",
     "text": [
      "<class 'pandas.core.frame.DataFrame'>\n",
      "RangeIndex: 4521 entries, 0 to 4520\n",
      "Data columns (total 17 columns):\n",
      "age          4237 non-null float64\n",
      "job          4521 non-null object\n",
      "marital      4521 non-null object\n",
      "education    4521 non-null object\n",
      "default      4521 non-null object\n",
      "balance      4168 non-null float64\n",
      "housing      4521 non-null object\n",
      "loan         4521 non-null object\n",
      "contact      4521 non-null object\n",
      "day          4521 non-null int64\n",
      "month        4521 non-null object\n",
      "duration     4251 non-null float64\n",
      "campaign     4521 non-null int64\n",
      "pdays        4521 non-null int64\n",
      "previous     4521 non-null int64\n",
      "poutcome     4521 non-null object\n",
      "y            4521 non-null object\n",
      "dtypes: float64(3), int64(4), object(10)\n",
      "memory usage: 600.5+ KB\n"
     ]
    }
   ],
   "source": [
    "data.info()"
   ]
  },
  {
   "cell_type": "code",
   "execution_count": 4,
   "metadata": {},
   "outputs": [
    {
     "data": {
      "text/plain": [
       "age           True\n",
       "job          False\n",
       "marital      False\n",
       "education    False\n",
       "default      False\n",
       "balance       True\n",
       "housing      False\n",
       "loan         False\n",
       "contact      False\n",
       "day          False\n",
       "month        False\n",
       "duration      True\n",
       "campaign     False\n",
       "pdays        False\n",
       "previous     False\n",
       "poutcome     False\n",
       "y            False\n",
       "dtype: bool"
      ]
     },
     "execution_count": 4,
     "metadata": {},
     "output_type": "execute_result"
    }
   ],
   "source": [
    "data.isna().any()"
   ]
  },
  {
   "cell_type": "code",
   "execution_count": 5,
   "metadata": {},
   "outputs": [],
   "source": [
    "#get the median of Age and replace it NaN\n",
    "data['age'].fillna(data['age'].median(), inplace = True) "
   ]
  },
  {
   "cell_type": "code",
   "execution_count": 6,
   "metadata": {
    "scrolled": true
   },
   "outputs": [],
   "source": [
    "#get the mean of duration and replace it NaN\n",
    "data['duration'].fillna(data['duration'].mean(), inplace = True) "
   ]
  },
  {
   "cell_type": "code",
   "execution_count": 7,
   "metadata": {},
   "outputs": [],
   "source": [
    "#get the mean of balance and replace it NaN\n",
    "data['balance'].fillna(data['balance'].mean(), inplace = True) "
   ]
  },
  {
   "cell_type": "code",
   "execution_count": 8,
   "metadata": {},
   "outputs": [
    {
     "data": {
      "text/html": [
       "<div>\n",
       "<style scoped>\n",
       "    .dataframe tbody tr th:only-of-type {\n",
       "        vertical-align: middle;\n",
       "    }\n",
       "\n",
       "    .dataframe tbody tr th {\n",
       "        vertical-align: top;\n",
       "    }\n",
       "\n",
       "    .dataframe thead th {\n",
       "        text-align: right;\n",
       "    }\n",
       "</style>\n",
       "<table border=\"1\" class=\"dataframe\">\n",
       "  <thead>\n",
       "    <tr style=\"text-align: right;\">\n",
       "      <th></th>\n",
       "      <th>age</th>\n",
       "      <th>job</th>\n",
       "      <th>marital</th>\n",
       "      <th>education</th>\n",
       "      <th>default</th>\n",
       "      <th>balance</th>\n",
       "      <th>housing</th>\n",
       "      <th>loan</th>\n",
       "      <th>contact</th>\n",
       "      <th>day</th>\n",
       "      <th>month</th>\n",
       "      <th>duration</th>\n",
       "      <th>campaign</th>\n",
       "      <th>pdays</th>\n",
       "      <th>previous</th>\n",
       "      <th>poutcome</th>\n",
       "      <th>y</th>\n",
       "    </tr>\n",
       "  </thead>\n",
       "  <tbody>\n",
       "    <tr>\n",
       "      <th>0</th>\n",
       "      <td>30.0</td>\n",
       "      <td>unemployed</td>\n",
       "      <td>1</td>\n",
       "      <td>1</td>\n",
       "      <td>0</td>\n",
       "      <td>1787.000000</td>\n",
       "      <td>0</td>\n",
       "      <td>0</td>\n",
       "      <td>1</td>\n",
       "      <td>19</td>\n",
       "      <td>oct</td>\n",
       "      <td>79.000000</td>\n",
       "      <td>1</td>\n",
       "      <td>-1</td>\n",
       "      <td>0</td>\n",
       "      <td>0</td>\n",
       "      <td>0</td>\n",
       "    </tr>\n",
       "    <tr>\n",
       "      <th>1</th>\n",
       "      <td>33.0</td>\n",
       "      <td>services</td>\n",
       "      <td>1</td>\n",
       "      <td>2</td>\n",
       "      <td>0</td>\n",
       "      <td>4789.000000</td>\n",
       "      <td>1</td>\n",
       "      <td>1</td>\n",
       "      <td>1</td>\n",
       "      <td>11</td>\n",
       "      <td>may</td>\n",
       "      <td>220.000000</td>\n",
       "      <td>1</td>\n",
       "      <td>339</td>\n",
       "      <td>4</td>\n",
       "      <td>2</td>\n",
       "      <td>0</td>\n",
       "    </tr>\n",
       "    <tr>\n",
       "      <th>2</th>\n",
       "      <td>35.0</td>\n",
       "      <td>management</td>\n",
       "      <td>0</td>\n",
       "      <td>3</td>\n",
       "      <td>0</td>\n",
       "      <td>1375.929223</td>\n",
       "      <td>1</td>\n",
       "      <td>0</td>\n",
       "      <td>1</td>\n",
       "      <td>16</td>\n",
       "      <td>apr</td>\n",
       "      <td>185.000000</td>\n",
       "      <td>1</td>\n",
       "      <td>330</td>\n",
       "      <td>1</td>\n",
       "      <td>2</td>\n",
       "      <td>0</td>\n",
       "    </tr>\n",
       "    <tr>\n",
       "      <th>3</th>\n",
       "      <td>30.0</td>\n",
       "      <td>management</td>\n",
       "      <td>1</td>\n",
       "      <td>3</td>\n",
       "      <td>0</td>\n",
       "      <td>1476.000000</td>\n",
       "      <td>1</td>\n",
       "      <td>1</td>\n",
       "      <td>0</td>\n",
       "      <td>3</td>\n",
       "      <td>jun</td>\n",
       "      <td>261.430722</td>\n",
       "      <td>4</td>\n",
       "      <td>-1</td>\n",
       "      <td>0</td>\n",
       "      <td>0</td>\n",
       "      <td>0</td>\n",
       "    </tr>\n",
       "    <tr>\n",
       "      <th>4</th>\n",
       "      <td>59.0</td>\n",
       "      <td>blue-collar</td>\n",
       "      <td>1</td>\n",
       "      <td>2</td>\n",
       "      <td>0</td>\n",
       "      <td>0.000000</td>\n",
       "      <td>1</td>\n",
       "      <td>0</td>\n",
       "      <td>0</td>\n",
       "      <td>5</td>\n",
       "      <td>may</td>\n",
       "      <td>226.000000</td>\n",
       "      <td>1</td>\n",
       "      <td>-1</td>\n",
       "      <td>0</td>\n",
       "      <td>0</td>\n",
       "      <td>0</td>\n",
       "    </tr>\n",
       "  </tbody>\n",
       "</table>\n",
       "</div>"
      ],
      "text/plain": [
       "    age          job  marital  education  default      balance  housing  loan  \\\n",
       "0  30.0   unemployed        1          1        0  1787.000000        0     0   \n",
       "1  33.0     services        1          2        0  4789.000000        1     1   \n",
       "2  35.0   management        0          3        0  1375.929223        1     0   \n",
       "3  30.0   management        1          3        0  1476.000000        1     1   \n",
       "4  59.0  blue-collar        1          2        0     0.000000        1     0   \n",
       "\n",
       "   contact  day month    duration  campaign  pdays  previous  poutcome  y  \n",
       "0        1   19   oct   79.000000         1     -1         0         0  0  \n",
       "1        1   11   may  220.000000         1    339         4         2  0  \n",
       "2        1   16   apr  185.000000         1    330         1         2  0  \n",
       "3        0    3   jun  261.430722         4     -1         0         0  0  \n",
       "4        0    5   may  226.000000         1     -1         0         0  0  "
      ]
     },
     "execution_count": 8,
     "metadata": {},
     "output_type": "execute_result"
    }
   ],
   "source": [
    "#data cleanup\n",
    "cleanup = {'default': {'yes': 1, 'no': 0}, #Encoding Yes as 1 and No as 0\n",
    "           'y': {'yes' : 1, 'no': 0},\n",
    "           'marital': {'single': 0, 'married': 1, 'divorced': 2},\n",
    "           'education': {'unknown': 0, 'primary': 1, 'secondary': 2, 'tertiary': 3},\n",
    "           'housing': {'yes': 1, 'no': 0},\n",
    "           'loan' : {'yes': 1, 'no': 0},\n",
    "            'contact' : {'unknown': 0, 'cellular': 1, 'telephone': 2},\n",
    "          'poutcome' : {'unknown' : 0, 'success' : 1, 'failure' : 2, 'other' : 3}}\n",
    "data.replace(cleanup, inplace = True)\n",
    "data.head()"
   ]
  },
  {
   "cell_type": "code",
   "execution_count": 9,
   "metadata": {},
   "outputs": [
    {
     "data": {
      "text/plain": [
       "<matplotlib.axes._subplots.AxesSubplot at 0x1ee67a6acf8>"
      ]
     },
     "execution_count": 9,
     "metadata": {},
     "output_type": "execute_result"
    },
    {
     "data": {
      "image/png": "[encoded data removed]",
      "text/plain": [
       "<Figure size 1440x1440 with 2 Axes>"
      ]
     },
     "metadata": {
      "needs_background": "light"
     },
     "output_type": "display_data"
    }
   ],
   "source": [
    "data_corr1= data.corr()\n",
    "fig=plt.figure(figsize=(20,20))\n",
    "sns.heatmap(data_corr1,annot= True,linecolor='white',linewidths=3)"
   ]
  },
  {
   "cell_type": "code",
   "execution_count": 10,
   "metadata": {},
   "outputs": [
    {
     "data": {
      "text/plain": [
       "<matplotlib.axes._subplots.AxesSubplot at 0x1ee6a4aa198>"
      ]
     },
     "execution_count": 10,
     "metadata": {},
     "output_type": "execute_result"
    },
    {
     "data": {
      "image/png": "[encoded data removed]",
      "text/plain": [
       "<Figure size 1440x1440 with 2 Axes>"
      ]
     },
     "metadata": {
      "needs_background": "light"
     },
     "output_type": "display_data"
    }
   ],
   "source": [
    "data.drop(['job','month','day','marital','housing','contact','education','campaign','pdays','previous'],axis=1,inplace=True)\n",
    "data_corr1= data.corr()\n",
    "fig=plt.figure(figsize=(20,20))\n",
    "sns.heatmap(data_corr1,annot= True,linecolor='white',linewidths=3)"
   ]
  },
  {
   "cell_type": "code",
   "execution_count": 11,
   "metadata": {},
   "outputs": [
    {
     "data": {
      "text/plain": [
       "<matplotlib.axes._subplots.AxesSubplot at 0x1ee69b1fa90>"
      ]
     },
     "execution_count": 11,
     "metadata": {},
     "output_type": "execute_result"
    },
    {
     "data": {
      "image/png": "[encoded data removed]",
      "text/plain": [
       "<Figure size 2160x720 with 1 Axes>"
      ]
     },
     "metadata": {
      "needs_background": "light"
     },
     "output_type": "display_data"
    }
   ],
   "source": [
    "plt.figure(figsize=(30,10))\n",
    "sns.barplot(x='y',y='age',data= data,estimator=np.mean)"
   ]
  },
  {
   "cell_type": "code",
   "execution_count": 12,
   "metadata": {},
   "outputs": [
    {
     "data": {
      "text/plain": [
       "<matplotlib.axes._subplots.AxesSubplot at 0x1ee6a033898>"
      ]
     },
     "execution_count": 12,
     "metadata": {},
     "output_type": "execute_result"
    },
    {
     "data": {
      "image/png": "[encoded data removed]",
      "text/plain": [
       "<Figure size 2160x720 with 1 Axes>"
      ]
     },
     "metadata": {
      "needs_background": "light"
     },
     "output_type": "display_data"
    }
   ],
   "source": [
    "plt.figure(figsize=(30,10))\n",
    "sns.barplot(x='y',y='default',data= data,estimator=np.mean)"
   ]
  },
  {
   "cell_type": "code",
   "execution_count": 13,
   "metadata": {},
   "outputs": [
    {
     "data": {
      "text/plain": [
       "<matplotlib.axes._subplots.AxesSubplot at 0x1ee6a08c630>"
      ]
     },
     "execution_count": 13,
     "metadata": {},
     "output_type": "execute_result"
    },
    {
     "data": {
      "image/png": "[encoded data removed]",
      "text/plain": [
       "<Figure size 2160x720 with 1 Axes>"
      ]
     },
     "metadata": {
      "needs_background": "light"
     },
     "output_type": "display_data"
    }
   ],
   "source": [
    "plt.figure(figsize=(30,10))\n",
    "sns.barplot(x='y',y='balance',data= data,estimator=np.mean)"
   ]
  },
  {
   "cell_type": "code",
   "execution_count": 14,
   "metadata": {},
   "outputs": [
    {
     "data": {
      "text/plain": [
       "<matplotlib.axes._subplots.AxesSubplot at 0x1ee6a0842b0>"
      ]
     },
     "execution_count": 14,
     "metadata": {},
     "output_type": "execute_result"
    },
    {
     "data": {
      "image/png": "[encoded data removed]",
      "text/plain": [
       "<Figure size 2160x720 with 1 Axes>"
      ]
     },
     "metadata": {
      "needs_background": "light"
     },
     "output_type": "display_data"
    }
   ],
   "source": [
    "plt.figure(figsize=(30,10))\n",
    "sns.barplot(x='y',y='loan',data= data,estimator=np.mean)"
   ]
  },
  {
   "cell_type": "code",
   "execution_count": 15,
   "metadata": {},
   "outputs": [
    {
     "data": {
      "text/plain": [
       "<matplotlib.axes._subplots.AxesSubplot at 0x1ee6a0fad30>"
      ]
     },
     "execution_count": 15,
     "metadata": {},
     "output_type": "execute_result"
    },
    {
     "data": {
      "image/png": "[encoded data removed]",
      "text/plain": [
       "<Figure size 2160x720 with 1 Axes>"
      ]
     },
     "metadata": {
      "needs_background": "light"
     },
     "output_type": "display_data"
    }
   ],
   "source": [
    "plt.figure(figsize=(30,10))\n",
    "sns.barplot(x='y',y='duration',data= data,estimator=np.mean)"
   ]
  },
  {
   "cell_type": "code",
   "execution_count": 16,
   "metadata": {},
   "outputs": [
    {
     "data": {
      "text/plain": [
       "<matplotlib.axes._subplots.AxesSubplot at 0x1ee6a0e8710>"
      ]
     },
     "execution_count": 16,
     "metadata": {},
     "output_type": "execute_result"
    },
    {
     "data": {
      "image/png": "[encoded data removed]",
      "text/plain": [
       "<Figure size 2160x720 with 1 Axes>"
      ]
     },
     "metadata": {
      "needs_background": "light"
     },
     "output_type": "display_data"
    }
   ],
   "source": [
    "plt.figure(figsize=(30,10))\n",
    "sns.barplot(x='y',y='poutcome',data= data,estimator=np.mean)"
   ]
  },
  {
   "cell_type": "markdown",
   "metadata": {},
   "source": [
    "### Removing Duplicated Rows"
   ]
  },
  {
   "cell_type": "code",
   "execution_count": 17,
   "metadata": {},
   "outputs": [],
   "source": [
    "data=data[data.duplicated(subset=None, keep='first')==False]"
   ]
  },
  {
   "cell_type": "markdown",
   "metadata": {},
   "source": [
    "# Classification Algorithms"
   ]
  },
  {
   "cell_type": "code",
   "execution_count": 18,
   "metadata": {},
   "outputs": [],
   "source": [
    "from sklearn.model_selection import train_test_split\n",
    "from sklearn.preprocessing import MinMaxScaler\n",
    "from sklearn.neighbors import KNeighborsClassifier\n",
    "from sklearn.metrics import classification_report, confusion_matrix\n",
    "%matplotlib inline"
   ]
  },
  {
   "cell_type": "code",
   "execution_count": 19,
   "metadata": {},
   "outputs": [],
   "source": [
    "x = data.drop('y',axis=1)\n",
    "y = data['y']\n",
    "x_train_org,x_test_org,y_train,y_test= train_test_split(x,y,test_size=0.20,random_state=0)\n",
    "scaler = MinMaxScaler()\n",
    "x_train = scaler.fit_transform(x_train_org)\n",
    "x_test = scaler.transform(x_test_org)"
   ]
  },
  {
   "cell_type": "markdown",
   "metadata": {},
   "source": [
    "## Voting"
   ]
  },
  {
   "cell_type": "code",
   "execution_count": 20,
   "metadata": {},
   "outputs": [],
   "source": [
    "from sklearn.neighbors import KNeighborsClassifier\n",
    "knn = KNeighborsClassifier(n_neighbors=3)\n",
    "from sklearn.linear_model import LogisticRegression\n",
    "logistic = LogisticRegression(penalty='l1',C=100)\n",
    "from sklearn.svm import SVC\n",
    "svc_linear = SVC(kernel='linear',C=10,probability=True)\n",
    "from sklearn.svm import SVC\n",
    "svc_rbf = SVC(kernel='rbf',C=10,gamma=0.1,probability=True)\n",
    "from sklearn.svm import SVC\n",
    "svc_poly = SVC(kernel='poly',C=1,gamma=10,probability=True)\n",
    "from sklearn.tree import DecisionTreeClassifier\n",
    "tree = DecisionTreeClassifier(max_depth=5)\n",
    "from sklearn.ensemble import RandomForestClassifier\n",
    "rnd_clf = RandomForestClassifier(n_estimators=500, max_leaf_nodes=16, n_jobs=-1, random_state=0)\n",
    "from sklearn.ensemble import GradientBoostingClassifier\n",
    "gbc_clf = GradientBoostingClassifier(random_state=0,max_depth=2,learning_rate=0.01)"
   ]
  },
  {
   "cell_type": "markdown",
   "metadata": {},
   "source": [
    "### Hard Voting"
   ]
  },
  {
   "cell_type": "code",
   "execution_count": 21,
   "metadata": {},
   "outputs": [
    {
     "name": "stdout",
     "output_type": "stream",
     "text": [
      "KNeighborsClassifier 0.8784838350055741\n",
      "LogisticRegression 0.887402452619844\n",
      "DecisionTreeClassifier 0.8963210702341137\n",
      "RandomForestClassifier 0.8818283166109253\n",
      "GradientBoostingClassifier 0.8862876254180602\n",
      "VotingClassifier 0.8818283166109253\n"
     ]
    }
   ],
   "source": [
    "from sklearn.ensemble import VotingClassifier\n",
    "estimator1 = [('knn',knn),('logistic',logistic),('tree',tree),('rnd_clf',rnd_clf),('gbc_clf',gbc_clf)]\n",
    "voting1 = VotingClassifier(estimator1,voting='hard')\n",
    "voting1.fit(x_train,y_train)\n",
    "\n",
    "from sklearn.metrics import accuracy_score\n",
    "for clf in (knn,logistic,tree,rnd_clf,gbc_clf,voting1):\n",
    "    clf.fit(x_train, y_train)\n",
    "    y_pred = clf.predict(x_test)\n",
    "    print(clf.__class__.__name__, accuracy_score(y_test, y_pred))"
   ]
  },
  {
   "cell_type": "markdown",
   "metadata": {},
   "source": [
    "### Soft Voting"
   ]
  },
  {
   "cell_type": "code",
   "execution_count": 22,
   "metadata": {},
   "outputs": [
    {
     "name": "stdout",
     "output_type": "stream",
     "text": [
      "SVC 0.8862876254180602\n",
      "SVC 0.8862876254180602\n",
      "SVC 0.887402452619844\n",
      "VotingClassifier 0.8862876254180602\n"
     ]
    }
   ],
   "source": [
    "from sklearn.ensemble import VotingClassifier\n",
    "estimator1 = [('svc_linear',svc_linear),('svc_rbf',svc_rbf),('svc_poly',svc_poly)]\n",
    "voting2 = VotingClassifier(estimator1,voting='soft')\n",
    "voting2.fit(x_train,y_train)\n",
    "\n",
    "from sklearn.metrics import accuracy_score\n",
    "for clf in (svc_linear,svc_rbf,svc_poly,voting2):\n",
    "    clf.fit(x_train, y_train)\n",
    "    y_pred = clf.predict(x_test)\n",
    "    print(clf.__class__.__name__, accuracy_score(y_test, y_pred))"
   ]
  },
  {
   "cell_type": "markdown",
   "metadata": {},
   "source": [
    "# Bagging"
   ]
  },
  {
   "cell_type": "markdown",
   "metadata": {},
   "source": [
    "## 1. Decision Tree"
   ]
  },
  {
   "cell_type": "code",
   "execution_count": 23,
   "metadata": {},
   "outputs": [],
   "source": [
    "from sklearn.tree import DecisionTreeClassifier\n",
    "\n",
    "x= data.drop('y',axis=1)\n",
    "y=data['y']\n",
    "\n",
    "x_train,x_test,y_train,y_test= train_test_split(x,y,test_size=0.20,random_state=0)"
   ]
  },
  {
   "cell_type": "code",
   "execution_count": 24,
   "metadata": {},
   "outputs": [
    {
     "name": "stdout",
     "output_type": "stream",
     "text": [
      "Accuracy on training set: 0.9079\n",
      "Accuracy on test set: 0.8986\n"
     ]
    }
   ],
   "source": [
    "dtree = DecisionTreeClassifier(max_depth=4, random_state=0)\n",
    "dtree.fit(x_train, y_train)\n",
    "\n",
    "print(\"Accuracy on training set: {:.4f}\".format(dtree.score(x_train, y_train)))\n",
    "print(\"Accuracy on test set: {:.4f}\".format(dtree.score(x_test, y_test)))"
   ]
  },
  {
   "cell_type": "code",
   "execution_count": 25,
   "metadata": {},
   "outputs": [
    {
     "name": "stdout",
     "output_type": "stream",
     "text": [
      "Train score: 0.8932\n",
      "Test score: 0.8841\n"
     ]
    }
   ],
   "source": [
    "#Bagging\n",
    "from sklearn.ensemble import BaggingClassifier\n",
    "dtree = DecisionTreeClassifier(max_depth=4, random_state=0)\n",
    "dtree.fit(x_train, y_train)\n",
    "bag_dtree = BaggingClassifier(dtree,n_estimators=500,max_samples=100,random_state=0)\n",
    "bag_dtree.fit(x_train,y_train)\n",
    "print('Train score: {:.4f}'.format(bag_dtree.score(x_train, y_train)))\n",
    "print('Test score: {:.4f}'.format(bag_dtree.score(x_test, y_test)))"
   ]
  },
  {
   "cell_type": "markdown",
   "metadata": {},
   "source": [
    "## 2. Logistic Regression"
   ]
  },
  {
   "cell_type": "code",
   "execution_count": 26,
   "metadata": {},
   "outputs": [],
   "source": [
    "from sklearn.model_selection import train_test_split\n",
    "from sklearn.preprocessing import MinMaxScaler\n",
    "%matplotlib inline\n",
    "x= data.drop('y',axis=1)\n",
    "y=data['y']\n",
    "x_train_org,x_test_org,y_train,y_test= train_test_split(x,y,test_size=0.20,random_state=0)\n",
    "scaler = MinMaxScaler()\n",
    "x_train = scaler.fit_transform(x_train_org)\n",
    "x_test = scaler.transform(x_test_org)"
   ]
  },
  {
   "cell_type": "code",
   "execution_count": 27,
   "metadata": {},
   "outputs": [
    {
     "name": "stdout",
     "output_type": "stream",
     "text": [
      "Train score: 0.8890\n",
      "Test score: 0.8874\n"
     ]
    }
   ],
   "source": [
    "logreg = LogisticRegression(penalty='l1', C=100)\n",
    "logreg.fit(x_train, y_train)\n",
    "print('Train score: {:.4f}'.format(logreg.score(x_train, y_train)))\n",
    "print('Test score: {:.4f}'.format(logreg.score(x_test, y_test)))"
   ]
  },
  {
   "cell_type": "code",
   "execution_count": 28,
   "metadata": {},
   "outputs": [
    {
     "name": "stdout",
     "output_type": "stream",
     "text": [
      "Train score: 0.8915\n",
      "Test score: 0.8841\n"
     ]
    }
   ],
   "source": [
    "#Bagging\n",
    "from sklearn.ensemble import BaggingClassifier\n",
    "from sklearn.linear_model import LogisticRegression\n",
    "logreg = LogisticRegression(penalty='l1', C=100)\n",
    "logreg.fit(x_train, y_train)\n",
    "bag_log = BaggingClassifier(logreg,n_estimators=500,max_samples=100,random_state=0)\n",
    "bag_log.fit(x_train,y_train)\n",
    "print('Train score: {:.4f}'.format(bag_log.score(x_train, y_train)))\n",
    "print('Test score: {:.4f}'.format(bag_log.score(x_test, y_test)))"
   ]
  },
  {
   "cell_type": "markdown",
   "metadata": {},
   "source": [
    "# Pasting"
   ]
  },
  {
   "cell_type": "markdown",
   "metadata": {},
   "source": [
    "## 1. Decision Tree"
   ]
  },
  {
   "cell_type": "code",
   "execution_count": 29,
   "metadata": {},
   "outputs": [],
   "source": [
    "from sklearn.tree import DecisionTreeClassifier\n",
    "\n",
    "x= data.drop('y',axis=1)\n",
    "y=data['y']\n",
    "\n",
    "x_train,x_test,y_train,y_test= train_test_split(x,y,test_size=0.20,random_state=0)"
   ]
  },
  {
   "cell_type": "code",
   "execution_count": 30,
   "metadata": {},
   "outputs": [
    {
     "name": "stdout",
     "output_type": "stream",
     "text": [
      "Accuracy on training set: 0.9079\n",
      "Accuracy on test set: 0.8986\n"
     ]
    }
   ],
   "source": [
    "dtree = DecisionTreeClassifier(max_depth=4, random_state=0)\n",
    "dtree.fit(x_train, y_train)\n",
    "\n",
    "print(\"Accuracy on training set: {:.4f}\".format(dtree.score(x_train, y_train)))\n",
    "print(\"Accuracy on test set: {:.4f}\".format(dtree.score(x_test, y_test)))"
   ]
  },
  {
   "cell_type": "code",
   "execution_count": 31,
   "metadata": {
    "scrolled": true
   },
   "outputs": [
    {
     "name": "stdout",
     "output_type": "stream",
     "text": [
      "Train score: 0.8893\n",
      "Test score: 0.8896\n"
     ]
    }
   ],
   "source": [
    "#Pasting\n",
    "from sklearn.ensemble import BaggingClassifier\n",
    "dtree = DecisionTreeClassifier(max_depth=4, random_state=0)\n",
    "dtree.fit(x_train, y_train)\n",
    "bag_dtree = BaggingClassifier(dtree,n_estimators=500,max_samples=100,random_state=0,bootstrap=False)\n",
    "bag_dtree.fit(x_train,y_train)\n",
    "print('Train score: {:.4f}'.format(bag_dtree.score(x_train, y_train)))\n",
    "print('Test score: {:.4f}'.format(bag_dtree.score(x_test, y_test)))"
   ]
  },
  {
   "cell_type": "markdown",
   "metadata": {},
   "source": [
    "## 2. SVC with Linear Kernel"
   ]
  },
  {
   "cell_type": "code",
   "execution_count": 32,
   "metadata": {},
   "outputs": [],
   "source": [
    "from sklearn.model_selection import train_test_split\n",
    "x = data.drop('y',axis=1)\n",
    "y = data['y']\n",
    "\n",
    "x_train_org, x_test_org, y_train, y_test = train_test_split(x, y, test_size=0.2, random_state=0)\n",
    "\n",
    "from sklearn.preprocessing import MinMaxScaler\n",
    "scale = MinMaxScaler()\n",
    "x_train = scale.fit_transform(x_train_org)\n",
    "x_test = scale.transform(x_test_org)"
   ]
  },
  {
   "cell_type": "code",
   "execution_count": 33,
   "metadata": {},
   "outputs": [
    {
     "name": "stdout",
     "output_type": "stream",
     "text": [
      "Train score: 0.8831\n",
      "Test score: 0.8863\n"
     ]
    }
   ],
   "source": [
    "svc_lin = SVC(C=10,kernel='linear')\n",
    "svc_lin.fit(x_train,y_train)\n",
    "print('Train score: {:.4f}'.format(svc_lin.score(x_train, y_train)))\n",
    "print('Test score: {:.4f}'.format(svc_lin.score(x_test, y_test)))"
   ]
  },
  {
   "cell_type": "code",
   "execution_count": 34,
   "metadata": {},
   "outputs": [
    {
     "name": "stdout",
     "output_type": "stream",
     "text": [
      "Train score: 0.8831\n",
      "Test score: 0.8863\n"
     ]
    }
   ],
   "source": [
    "#Pasting\n",
    "from sklearn.ensemble import BaggingClassifier\n",
    "svc_lin = SVC(kernel='linear',C=10)\n",
    "bag_svc_lin = BaggingClassifier(svc_lin,n_estimators=500,max_samples=100,random_state=0,bootstrap=False)\n",
    "bag_svc_lin.fit(x_train,y_train)\n",
    "print('Train score: {:.4f}'.format(bag_svc_lin.score(x_train, y_train)))\n",
    "print('Test score: {:.4f}'.format(bag_svc_lin.score(x_test, y_test)))"
   ]
  },
  {
   "cell_type": "markdown",
   "metadata": {},
   "source": [
    "# AdaBoosting"
   ]
  },
  {
   "cell_type": "markdown",
   "metadata": {},
   "source": [
    "## 1. Decision Tree"
   ]
  },
  {
   "cell_type": "code",
   "execution_count": 35,
   "metadata": {},
   "outputs": [],
   "source": [
    "from sklearn.tree import DecisionTreeClassifier\n",
    "\n",
    "x= data.drop('y',axis=1)\n",
    "y=data['y']\n",
    "\n",
    "x_train,x_test,y_train,y_test= train_test_split(x,y,test_size=0.20,random_state=0)"
   ]
  },
  {
   "cell_type": "code",
   "execution_count": 36,
   "metadata": {},
   "outputs": [
    {
     "name": "stdout",
     "output_type": "stream",
     "text": [
      "Accuracy on training set: 0.9079\n",
      "Accuracy on test set: 0.8986\n"
     ]
    }
   ],
   "source": [
    "dtree = DecisionTreeClassifier(max_depth=4, random_state=0)\n",
    "dtree.fit(x_train, y_train)\n",
    "\n",
    "print(\"Accuracy on training set: {:.4f}\".format(dtree.score(x_train, y_train)))\n",
    "print(\"Accuracy on test set: {:.4f}\".format(dtree.score(x_test, y_test)))"
   ]
  },
  {
   "cell_type": "code",
   "execution_count": 37,
   "metadata": {},
   "outputs": [
    {
     "name": "stdout",
     "output_type": "stream",
     "text": [
      "Train score: 0.9102\n",
      "Test score: 0.8896\n"
     ]
    }
   ],
   "source": [
    "#AdaBoosting\n",
    "from sklearn.ensemble import AdaBoostClassifier\n",
    "dtree = DecisionTreeClassifier(max_depth=4, random_state=0)\n",
    "dtree.fit(x_train, y_train)\n",
    "ada_dtree = AdaBoostClassifier(dtree,n_estimators=200,learning_rate=0.5,algorithm='SAMME')\n",
    "ada_dtree.fit(x_train,y_train)\n",
    "print('Train score: {:.4f}'.format(ada_dtree.score(x_train, y_train)))\n",
    "print('Test score: {:.4f}'.format(ada_dtree.score(x_test, y_test)))"
   ]
  },
  {
   "cell_type": "markdown",
   "metadata": {},
   "source": [
    "## 2. SVC with Poly Kernel"
   ]
  },
  {
   "cell_type": "code",
   "execution_count": 38,
   "metadata": {},
   "outputs": [],
   "source": [
    "from sklearn.model_selection import train_test_split\n",
    "x = data.drop('y',axis=1)\n",
    "y = data['y']\n",
    "\n",
    "x_train_org, x_test_org, y_train, y_test = train_test_split(x, y, test_size=0.2, random_state=0)\n",
    "\n",
    "from sklearn.preprocessing import MinMaxScaler\n",
    "scale = MinMaxScaler()\n",
    "x_train = scale.fit_transform(x_train_org)\n",
    "x_test = scale.transform(x_test_org)"
   ]
  },
  {
   "cell_type": "code",
   "execution_count": 39,
   "metadata": {},
   "outputs": [
    {
     "name": "stdout",
     "output_type": "stream",
     "text": [
      "Train score: 0.8876\n",
      "Test score: 0.8874\n"
     ]
    }
   ],
   "source": [
    "svc_poly = SVC(C=10, kernel='poly', gamma=10)\n",
    "svc_poly.fit(x_train,y_train)\n",
    "print('Train score: {:.4f}'.format(svc_poly.score(x_train, y_train)))\n",
    "print('Test score: {:.4f}'.format(svc_poly.score(x_test, y_test)))"
   ]
  },
  {
   "cell_type": "code",
   "execution_count": 40,
   "metadata": {},
   "outputs": [
    {
     "name": "stdout",
     "output_type": "stream",
     "text": [
      "Train score: 0.8901\n",
      "Test score: 0.8896\n"
     ]
    }
   ],
   "source": [
    "#AdaBoosting\n",
    "from sklearn.ensemble import AdaBoostClassifier\n",
    "svc_poly = SVC(kernel='poly',C=10,gamma=10)\n",
    "ada_svc_poly = AdaBoostClassifier(svc_poly,n_estimators=200,learning_rate=0.5,algorithm='SAMME')\n",
    "ada_svc_poly.fit(x_train,y_train)\n",
    "print('Train score: {:.4f}'.format(ada_svc_poly.score(x_train, y_train)))\n",
    "print('Test score: {:.4f}'.format(ada_svc_poly.score(x_test, y_test)))"
   ]
  },
  {
   "cell_type": "markdown",
   "metadata": {},
   "source": [
    "# Gradient Boosting"
   ]
  },
  {
   "cell_type": "code",
   "execution_count": 41,
   "metadata": {},
   "outputs": [
    {
     "name": "stdout",
     "output_type": "stream",
     "text": [
      "Accuracy on training set: 0.8870\n",
      "Accuracy on test set: 0.8896\n"
     ]
    }
   ],
   "source": [
    "from sklearn.ensemble import GradientBoostingClassifier\n",
    "\n",
    "gbrt_dt = GradientBoostingClassifier(random_state=0, max_depth=1)\n",
    "gbrt_dt.fit(x_train, y_train)\n",
    "\n",
    "print(\"Accuracy on training set: {:.4f}\".format(gbrt_dt.score(x_train, y_train)))\n",
    "print(\"Accuracy on test set: {:.4f}\".format(gbrt_dt.score(x_test, y_test)))"
   ]
  },
  {
   "cell_type": "code",
   "execution_count": 42,
   "metadata": {},
   "outputs": [
    {
     "name": "stdout",
     "output_type": "stream",
     "text": [
      "Accuracy on training set: 0.8831\n",
      "Accuracy on test set: 0.8852\n"
     ]
    }
   ],
   "source": [
    "gbrt = GradientBoostingClassifier(random_state=0, learning_rate=0.01)\n",
    "gbrt.fit(x_train, y_train)\n",
    "\n",
    "print(\"Accuracy on training set: {:.4f}\".format(gbrt.score(x_train, y_train)))\n",
    "print(\"Accuracy on test set: {:.4f}\".format(gbrt.score(x_test, y_test)))"
   ]
  },
  {
   "cell_type": "markdown",
   "metadata": {},
   "source": [
    "# PCA"
   ]
  },
  {
   "cell_type": "code",
   "execution_count": 43,
   "metadata": {},
   "outputs": [],
   "source": [
    "x = data.drop('y',axis=1)\n",
    "y = data['y']\n",
    "x_train_org,x_test_org,y_train,y_test= train_test_split(x,y,test_size=0.20,random_state=0)\n",
    "scaler = MinMaxScaler()\n",
    "x_train = scaler.fit_transform(x_train_org)\n",
    "x_test = scaler.transform(x_test_org)"
   ]
  },
  {
   "cell_type": "code",
   "execution_count": 44,
   "metadata": {},
   "outputs": [],
   "source": [
    "from  sklearn.decomposition import PCA\n",
    "pca= PCA(n_components=0.95)\n",
    "pca.fit(x_train)\n",
    "x_train= pca.transform(x_train)\n",
    "x_test=pca.transform(x_test)"
   ]
  },
  {
   "cell_type": "markdown",
   "metadata": {},
   "source": [
    "## 1. KNN Classification"
   ]
  },
  {
   "cell_type": "code",
   "execution_count": 45,
   "metadata": {},
   "outputs": [],
   "source": [
    "from sklearn.model_selection import train_test_split\n",
    "from sklearn.preprocessing import MinMaxScaler\n",
    "from sklearn.neighbors import KNeighborsClassifier\n",
    "from sklearn.metrics import classification_report, confusion_matrix\n",
    "%matplotlib inline"
   ]
  },
  {
   "cell_type": "code",
   "execution_count": 46,
   "metadata": {},
   "outputs": [
    {
     "data": {
      "text/plain": [
       "<matplotlib.legend.Legend at 0x1ee6ad85c50>"
      ]
     },
     "execution_count": 46,
     "metadata": {},
     "output_type": "execute_result"
    },
    {
     "data": {
      "image/png": "[encoded data removed]",
      "text/plain": [
       "<Figure size 432x288 with 1 Axes>"
      ]
     },
     "metadata": {
      "needs_background": "light"
     },
     "output_type": "display_data"
    }
   ],
   "source": [
    "train_score = []\n",
    "test_score = []\n",
    "\n",
    "n = range(1,15)\n",
    "for i in n:\n",
    "    knn = KNeighborsClassifier(n_neighbors=i)\n",
    "    knn.fit(x_train,y_train)\n",
    "    train_score.append(knn.score(x_train,y_train))\n",
    "    test_score.append(knn.score(x_test,y_test))\n",
    "\n",
    "plt.plot(n,train_score,'b',label='Train score')\n",
    "plt.plot(n,test_score,'r',label = 'Test score')\n",
    "plt.xlabel('k')\n",
    "plt.ylabel('Accuracy')\n",
    "plt.legend()"
   ]
  },
  {
   "cell_type": "markdown",
   "metadata": {},
   "source": [
    "It seems like k = 5 is the best parameter for KNN Model"
   ]
  },
  {
   "cell_type": "code",
   "execution_count": 47,
   "metadata": {},
   "outputs": [
    {
     "name": "stdout",
     "output_type": "stream",
     "text": [
      "Train score: 0.9079\n",
      "Test score: 0.8774\n"
     ]
    }
   ],
   "source": [
    "knn = KNeighborsClassifier(5)\n",
    "knn.fit(x_train, y_train)\n",
    "print('Train score: {:.4f}'.format(knn.score(x_train, y_train)))\n",
    "print('Test score: {:.4f}'.format(knn.score(x_test, y_test)))"
   ]
  },
  {
   "cell_type": "markdown",
   "metadata": {},
   "source": [
    "## 2. Logistic Regression"
   ]
  },
  {
   "cell_type": "code",
   "execution_count": 48,
   "metadata": {},
   "outputs": [],
   "source": [
    "from sklearn.linear_model import LogisticRegression\n",
    "\n",
    "c_range = [0.001, 0.01, 0.1, 1, 10, 100, 1000,10000,100000]\n",
    "train_score_l1 = []\n",
    "train_score_l2 = []\n",
    "test_score_l1 = []\n",
    "test_score_l2 = []\n",
    "\n",
    "for c in c_range:\n",
    "    log_l1 = LogisticRegression(penalty = 'l1', C = c, solver = 'liblinear')\n",
    "    log_l2 = LogisticRegression(penalty = 'l2', C = c, solver = 'lbfgs')\n",
    "    log_l1.fit(x_train, y_train)\n",
    "    log_l2.fit(x_train, y_train)\n",
    "    train_score_l1.append(log_l1.score(x_train, y_train))\n",
    "    train_score_l2.append(log_l2.score(x_train, y_train))\n",
    "    test_score_l1.append(log_l1.score(x_test, y_test))\n",
    "    test_score_l2.append(log_l2.score(x_test, y_test))"
   ]
  },
  {
   "cell_type": "code",
   "execution_count": 49,
   "metadata": {},
   "outputs": [
    {
     "data": {
      "image/png": "[encoded data removed]",
      "text/plain": [
       "<Figure size 1440x720 with 2 Axes>"
      ]
     },
     "metadata": {
      "needs_background": "light"
     },
     "output_type": "display_data"
    }
   ],
   "source": [
    "import matplotlib.pyplot as plt\n",
    "plt.figure(figsize=(20,10))\n",
    "plt.subplot(1,2,1)\n",
    "plt.plot(c_range, train_score_l1, label = 'Train score, penalty = l1',c='blue')\n",
    "plt.plot(c_range, test_score_l1, label = 'Test score, penalty = l1',c='r')\n",
    "plt.legend()\n",
    "plt.xlabel('Regularization parameter: C')\n",
    "plt.ylabel('Accuracy')\n",
    "plt.xscale('log')\n",
    "plt.subplot(1,2,2)\n",
    "plt.plot(c_range, train_score_l2, label = 'Train score, penalty = l2',c='y')\n",
    "plt.plot(c_range, test_score_l2, label = 'Test score, penalty = l2',c='g')\n",
    "plt.legend()\n",
    "plt.xlabel('Regularization parameter: C')\n",
    "plt.ylabel('Accuracy')\n",
    "plt.xscale('log')"
   ]
  },
  {
   "cell_type": "markdown",
   "metadata": {},
   "source": [
    "L1 Regularization with C=10 gives better accuracy. With L1 penalty, the model is generalising more on the test dataset at C=10. So we choose L1 and C=10 for Logestic Regression"
   ]
  },
  {
   "cell_type": "code",
   "execution_count": 50,
   "metadata": {
    "scrolled": true
   },
   "outputs": [
    {
     "name": "stdout",
     "output_type": "stream",
     "text": [
      "Train score: 0.8831\n",
      "Test score: 0.8863\n"
     ]
    }
   ],
   "source": [
    "logreg = LogisticRegression(penalty='l1', C=10)\n",
    "logreg.fit(x_train, y_train)\n",
    "print('Train score: {:.4f}'.format(logreg.score(x_train, y_train)))\n",
    "print('Test score: {:.4f}'.format(logreg.score(x_test, y_test)))"
   ]
  },
  {
   "cell_type": "code",
   "execution_count": 51,
   "metadata": {},
   "outputs": [
    {
     "name": "stdout",
     "output_type": "stream",
     "text": [
      "0.8862876254180602\n"
     ]
    }
   ],
   "source": [
    "from  sklearn.metrics import accuracy_score\n",
    "y_pred = logreg.predict(x_test)\n",
    "print(accuracy_score(y_test, y_pred))"
   ]
  },
  {
   "cell_type": "code",
   "execution_count": 52,
   "metadata": {},
   "outputs": [
    {
     "ename": "ValueError",
     "evalue": "Contour levels must be increasing",
     "output_type": "error",
     "traceback": [
      "\u001b[1;31m---------------------------------------------------------------------------\u001b[0m",
      "\u001b[1;31mValueError\u001b[0m                                Traceback (most recent call last)",
      "\u001b[1;32m<ipython-input-52-c9e85bf41f74>\u001b[0m in \u001b[0;36m<module>\u001b[1;34m\u001b[0m\n\u001b[0;32m      6\u001b[0m \u001b[0mlreg\u001b[0m\u001b[1;33m.\u001b[0m\u001b[0mfit\u001b[0m\u001b[1;33m(\u001b[0m\u001b[0mx_b\u001b[0m\u001b[1;33m,\u001b[0m \u001b[0my_b\u001b[0m\u001b[1;33m)\u001b[0m\u001b[1;33m\u001b[0m\u001b[0m\n\u001b[0;32m      7\u001b[0m \u001b[1;33m\u001b[0m\u001b[0m\n\u001b[1;32m----> 8\u001b[1;33m \u001b[0mmglearn\u001b[0m\u001b[1;33m.\u001b[0m\u001b[0mplots\u001b[0m\u001b[1;33m.\u001b[0m\u001b[0mplot_2d_separator\u001b[0m\u001b[1;33m(\u001b[0m\u001b[0mlreg\u001b[0m\u001b[1;33m,\u001b[0m \u001b[0mx_b\u001b[0m\u001b[1;33m,\u001b[0m \u001b[0mfill\u001b[0m\u001b[1;33m=\u001b[0m\u001b[1;32mTrue\u001b[0m\u001b[1;33m,\u001b[0m \u001b[0meps\u001b[0m\u001b[1;33m=\u001b[0m\u001b[1;36m0.5\u001b[0m\u001b[1;33m,\u001b[0m \u001b[0malpha\u001b[0m\u001b[1;33m=\u001b[0m\u001b[1;36m.4\u001b[0m\u001b[1;33m)\u001b[0m\u001b[1;33m\u001b[0m\u001b[0m\n\u001b[0m\u001b[0;32m      9\u001b[0m \u001b[0mmglearn\u001b[0m\u001b[1;33m.\u001b[0m\u001b[0mdiscrete_scatter\u001b[0m\u001b[1;33m(\u001b[0m\u001b[0mx_b\u001b[0m\u001b[1;33m[\u001b[0m\u001b[1;33m:\u001b[0m\u001b[1;33m,\u001b[0m \u001b[1;36m0\u001b[0m\u001b[1;33m]\u001b[0m\u001b[1;33m,\u001b[0m \u001b[0mx_b\u001b[0m\u001b[1;33m[\u001b[0m\u001b[1;33m:\u001b[0m\u001b[1;33m,\u001b[0m \u001b[1;36m1\u001b[0m\u001b[1;33m]\u001b[0m\u001b[1;33m,\u001b[0m \u001b[0my_b\u001b[0m\u001b[1;33m)\u001b[0m\u001b[1;33m\u001b[0m\u001b[0m\n",
      "\u001b[1;32mc:\\users\\vnrak\\appdata\\local\\programs\\python\\python36\\lib\\site-packages\\mglearn\\plot_2d_separator.py\u001b[0m in \u001b[0;36mplot_2d_separator\u001b[1;34m(classifier, X, fill, ax, eps, alpha, cm, linewidth, threshold, linestyle)\u001b[0m\n\u001b[0;32m     95\u001b[0m     \u001b[1;32mif\u001b[0m \u001b[0mfill\u001b[0m\u001b[1;33m:\u001b[0m\u001b[1;33m\u001b[0m\u001b[0m\n\u001b[0;32m     96\u001b[0m         ax.contourf(X1, X2, decision_values.reshape(X1.shape),\n\u001b[1;32m---> 97\u001b[1;33m                     levels=fill_levels, alpha=alpha, cmap=cm)\n\u001b[0m\u001b[0;32m     98\u001b[0m     \u001b[1;32melse\u001b[0m\u001b[1;33m:\u001b[0m\u001b[1;33m\u001b[0m\u001b[0m\n\u001b[0;32m     99\u001b[0m         ax.contour(X1, X2, decision_values.reshape(X1.shape), levels=levels,\n",
      "\u001b[1;32mc:\\users\\vnrak\\appdata\\local\\programs\\python\\python36\\lib\\site-packages\\matplotlib\\__init__.py\u001b[0m in \u001b[0;36minner\u001b[1;34m(ax, data, *args, **kwargs)\u001b[0m\n\u001b[0;32m   1587\u001b[0m     \u001b[1;32mdef\u001b[0m \u001b[0minner\u001b[0m\u001b[1;33m(\u001b[0m\u001b[0max\u001b[0m\u001b[1;33m,\u001b[0m \u001b[1;33m*\u001b[0m\u001b[0margs\u001b[0m\u001b[1;33m,\u001b[0m \u001b[0mdata\u001b[0m\u001b[1;33m=\u001b[0m\u001b[1;32mNone\u001b[0m\u001b[1;33m,\u001b[0m \u001b[1;33m**\u001b[0m\u001b[0mkwargs\u001b[0m\u001b[1;33m)\u001b[0m\u001b[1;33m:\u001b[0m\u001b[1;33m\u001b[0m\u001b[0m\n\u001b[0;32m   1588\u001b[0m         \u001b[1;32mif\u001b[0m \u001b[0mdata\u001b[0m \u001b[1;32mis\u001b[0m \u001b[1;32mNone\u001b[0m\u001b[1;33m:\u001b[0m\u001b[1;33m\u001b[0m\u001b[0m\n\u001b[1;32m-> 1589\u001b[1;33m             \u001b[1;32mreturn\u001b[0m \u001b[0mfunc\u001b[0m\u001b[1;33m(\u001b[0m\u001b[0max\u001b[0m\u001b[1;33m,\u001b[0m \u001b[1;33m*\u001b[0m\u001b[0mmap\u001b[0m\u001b[1;33m(\u001b[0m\u001b[0msanitize_sequence\u001b[0m\u001b[1;33m,\u001b[0m \u001b[0margs\u001b[0m\u001b[1;33m)\u001b[0m\u001b[1;33m,\u001b[0m \u001b[1;33m**\u001b[0m\u001b[0mkwargs\u001b[0m\u001b[1;33m)\u001b[0m\u001b[1;33m\u001b[0m\u001b[0m\n\u001b[0m\u001b[0;32m   1590\u001b[0m \u001b[1;33m\u001b[0m\u001b[0m\n\u001b[0;32m   1591\u001b[0m         \u001b[0mbound\u001b[0m \u001b[1;33m=\u001b[0m \u001b[0mnew_sig\u001b[0m\u001b[1;33m.\u001b[0m\u001b[0mbind\u001b[0m\u001b[1;33m(\u001b[0m\u001b[0max\u001b[0m\u001b[1;33m,\u001b[0m \u001b[1;33m*\u001b[0m\u001b[0margs\u001b[0m\u001b[1;33m,\u001b[0m \u001b[1;33m**\u001b[0m\u001b[0mkwargs\u001b[0m\u001b[1;33m)\u001b[0m\u001b[1;33m\u001b[0m\u001b[0m\n",
      "\u001b[1;32mc:\\users\\vnrak\\appdata\\local\\programs\\python\\python36\\lib\\site-packages\\matplotlib\\axes\\_axes.py\u001b[0m in \u001b[0;36mcontourf\u001b[1;34m(self, *args, **kwargs)\u001b[0m\n\u001b[0;32m   6406\u001b[0m     \u001b[1;32mdef\u001b[0m \u001b[0mcontourf\u001b[0m\u001b[1;33m(\u001b[0m\u001b[0mself\u001b[0m\u001b[1;33m,\u001b[0m \u001b[1;33m*\u001b[0m\u001b[0margs\u001b[0m\u001b[1;33m,\u001b[0m \u001b[1;33m**\u001b[0m\u001b[0mkwargs\u001b[0m\u001b[1;33m)\u001b[0m\u001b[1;33m:\u001b[0m\u001b[1;33m\u001b[0m\u001b[0m\n\u001b[0;32m   6407\u001b[0m         \u001b[0mkwargs\u001b[0m\u001b[1;33m[\u001b[0m\u001b[1;34m'filled'\u001b[0m\u001b[1;33m]\u001b[0m \u001b[1;33m=\u001b[0m \u001b[1;32mTrue\u001b[0m\u001b[1;33m\u001b[0m\u001b[0m\n\u001b[1;32m-> 6408\u001b[1;33m         \u001b[0mcontours\u001b[0m \u001b[1;33m=\u001b[0m \u001b[0mmcontour\u001b[0m\u001b[1;33m.\u001b[0m\u001b[0mQuadContourSet\u001b[0m\u001b[1;33m(\u001b[0m\u001b[0mself\u001b[0m\u001b[1;33m,\u001b[0m \u001b[1;33m*\u001b[0m\u001b[0margs\u001b[0m\u001b[1;33m,\u001b[0m \u001b[1;33m**\u001b[0m\u001b[0mkwargs\u001b[0m\u001b[1;33m)\u001b[0m\u001b[1;33m\u001b[0m\u001b[0m\n\u001b[0m\u001b[0;32m   6409\u001b[0m         \u001b[0mself\u001b[0m\u001b[1;33m.\u001b[0m\u001b[0mautoscale_view\u001b[0m\u001b[1;33m(\u001b[0m\u001b[1;33m)\u001b[0m\u001b[1;33m\u001b[0m\u001b[0m\n\u001b[0;32m   6410\u001b[0m         \u001b[1;32mreturn\u001b[0m \u001b[0mcontours\u001b[0m\u001b[1;33m\u001b[0m\u001b[0m\n",
      "\u001b[1;32mc:\\users\\vnrak\\appdata\\local\\programs\\python\\python36\\lib\\site-packages\\matplotlib\\contour.py\u001b[0m in \u001b[0;36m__init__\u001b[1;34m(self, ax, levels, filled, linewidths, linestyles, alpha, origin, extent, cmap, colors, norm, vmin, vmax, extend, antialiased, *args, **kwargs)\u001b[0m\n\u001b[0;32m    853\u001b[0m         \u001b[0mself\u001b[0m\u001b[1;33m.\u001b[0m\u001b[0m_transform\u001b[0m \u001b[1;33m=\u001b[0m \u001b[0mkwargs\u001b[0m\u001b[1;33m.\u001b[0m\u001b[0mpop\u001b[0m\u001b[1;33m(\u001b[0m\u001b[1;34m'transform'\u001b[0m\u001b[1;33m,\u001b[0m \u001b[1;32mNone\u001b[0m\u001b[1;33m)\u001b[0m\u001b[1;33m\u001b[0m\u001b[0m\n\u001b[0;32m    854\u001b[0m \u001b[1;33m\u001b[0m\u001b[0m\n\u001b[1;32m--> 855\u001b[1;33m         \u001b[0mkwargs\u001b[0m \u001b[1;33m=\u001b[0m \u001b[0mself\u001b[0m\u001b[1;33m.\u001b[0m\u001b[0m_process_args\u001b[0m\u001b[1;33m(\u001b[0m\u001b[1;33m*\u001b[0m\u001b[0margs\u001b[0m\u001b[1;33m,\u001b[0m \u001b[1;33m**\u001b[0m\u001b[0mkwargs\u001b[0m\u001b[1;33m)\u001b[0m\u001b[1;33m\u001b[0m\u001b[0m\n\u001b[0m\u001b[0;32m    856\u001b[0m         \u001b[0mself\u001b[0m\u001b[1;33m.\u001b[0m\u001b[0m_process_levels\u001b[0m\u001b[1;33m(\u001b[0m\u001b[1;33m)\u001b[0m\u001b[1;33m\u001b[0m\u001b[0m\n\u001b[0;32m    857\u001b[0m \u001b[1;33m\u001b[0m\u001b[0m\n",
      "\u001b[1;32mc:\\users\\vnrak\\appdata\\local\\programs\\python\\python36\\lib\\site-packages\\matplotlib\\contour.py\u001b[0m in \u001b[0;36m_process_args\u001b[1;34m(self, *args, **kwargs)\u001b[0m\n\u001b[0;32m   1454\u001b[0m                 \u001b[0mself\u001b[0m\u001b[1;33m.\u001b[0m\u001b[0m_corner_mask\u001b[0m \u001b[1;33m=\u001b[0m \u001b[0mmpl\u001b[0m\u001b[1;33m.\u001b[0m\u001b[0mrcParams\u001b[0m\u001b[1;33m[\u001b[0m\u001b[1;34m'contour.corner_mask'\u001b[0m\u001b[1;33m]\u001b[0m\u001b[1;33m\u001b[0m\u001b[0m\n\u001b[0;32m   1455\u001b[0m \u001b[1;33m\u001b[0m\u001b[0m\n\u001b[1;32m-> 1456\u001b[1;33m             \u001b[0mx\u001b[0m\u001b[1;33m,\u001b[0m \u001b[0my\u001b[0m\u001b[1;33m,\u001b[0m \u001b[0mz\u001b[0m \u001b[1;33m=\u001b[0m \u001b[0mself\u001b[0m\u001b[1;33m.\u001b[0m\u001b[0m_contour_args\u001b[0m\u001b[1;33m(\u001b[0m\u001b[0margs\u001b[0m\u001b[1;33m,\u001b[0m \u001b[0mkwargs\u001b[0m\u001b[1;33m)\u001b[0m\u001b[1;33m\u001b[0m\u001b[0m\n\u001b[0m\u001b[0;32m   1457\u001b[0m \u001b[1;33m\u001b[0m\u001b[0m\n\u001b[0;32m   1458\u001b[0m             \u001b[0m_mask\u001b[0m \u001b[1;33m=\u001b[0m \u001b[0mma\u001b[0m\u001b[1;33m.\u001b[0m\u001b[0mgetmask\u001b[0m\u001b[1;33m(\u001b[0m\u001b[0mz\u001b[0m\u001b[1;33m)\u001b[0m\u001b[1;33m\u001b[0m\u001b[0m\n",
      "\u001b[1;32mc:\\users\\vnrak\\appdata\\local\\programs\\python\\python36\\lib\\site-packages\\matplotlib\\contour.py\u001b[0m in \u001b[0;36m_contour_args\u001b[1;34m(self, args, kwargs)\u001b[0m\n\u001b[0;32m   1525\u001b[0m                                  'masked')\n\u001b[0;32m   1526\u001b[0m             \u001b[0mself\u001b[0m\u001b[1;33m.\u001b[0m\u001b[0mzmin\u001b[0m \u001b[1;33m=\u001b[0m \u001b[0mfloat\u001b[0m\u001b[1;33m(\u001b[0m\u001b[0mz\u001b[0m\u001b[1;33m.\u001b[0m\u001b[0mmin\u001b[0m\u001b[1;33m(\u001b[0m\u001b[1;33m)\u001b[0m\u001b[1;33m)\u001b[0m\u001b[1;33m\u001b[0m\u001b[0m\n\u001b[1;32m-> 1527\u001b[1;33m         \u001b[0mself\u001b[0m\u001b[1;33m.\u001b[0m\u001b[0m_contour_level_args\u001b[0m\u001b[1;33m(\u001b[0m\u001b[0mz\u001b[0m\u001b[1;33m,\u001b[0m \u001b[0margs\u001b[0m\u001b[1;33m)\u001b[0m\u001b[1;33m\u001b[0m\u001b[0m\n\u001b[0m\u001b[0;32m   1528\u001b[0m         \u001b[1;32mreturn\u001b[0m \u001b[1;33m(\u001b[0m\u001b[0mx\u001b[0m\u001b[1;33m,\u001b[0m \u001b[0my\u001b[0m\u001b[1;33m,\u001b[0m \u001b[0mz\u001b[0m\u001b[1;33m)\u001b[0m\u001b[1;33m\u001b[0m\u001b[0m\n\u001b[0;32m   1529\u001b[0m \u001b[1;33m\u001b[0m\u001b[0m\n",
      "\u001b[1;32mc:\\users\\vnrak\\appdata\\local\\programs\\python\\python36\\lib\\site-packages\\matplotlib\\contour.py\u001b[0m in \u001b[0;36m_contour_level_args\u001b[1;34m(self, z, args)\u001b[0m\n\u001b[0;32m   1209\u001b[0m \u001b[1;33m\u001b[0m\u001b[0m\n\u001b[0;32m   1210\u001b[0m         \u001b[1;32mif\u001b[0m \u001b[0mlen\u001b[0m\u001b[1;33m(\u001b[0m\u001b[0mself\u001b[0m\u001b[1;33m.\u001b[0m\u001b[0mlevels\u001b[0m\u001b[1;33m)\u001b[0m \u001b[1;33m>\u001b[0m \u001b[1;36m1\u001b[0m \u001b[1;32mand\u001b[0m \u001b[0mnp\u001b[0m\u001b[1;33m.\u001b[0m\u001b[0mmin\u001b[0m\u001b[1;33m(\u001b[0m\u001b[0mnp\u001b[0m\u001b[1;33m.\u001b[0m\u001b[0mdiff\u001b[0m\u001b[1;33m(\u001b[0m\u001b[0mself\u001b[0m\u001b[1;33m.\u001b[0m\u001b[0mlevels\u001b[0m\u001b[1;33m)\u001b[0m\u001b[1;33m)\u001b[0m \u001b[1;33m<=\u001b[0m \u001b[1;36m0.0\u001b[0m\u001b[1;33m:\u001b[0m\u001b[1;33m\u001b[0m\u001b[0m\n\u001b[1;32m-> 1211\u001b[1;33m             \u001b[1;32mraise\u001b[0m \u001b[0mValueError\u001b[0m\u001b[1;33m(\u001b[0m\u001b[1;34m\"Contour levels must be increasing\"\u001b[0m\u001b[1;33m)\u001b[0m\u001b[1;33m\u001b[0m\u001b[0m\n\u001b[0m\u001b[0;32m   1212\u001b[0m \u001b[1;33m\u001b[0m\u001b[0m\n\u001b[0;32m   1213\u001b[0m     \u001b[1;32mdef\u001b[0m \u001b[0m_process_levels\u001b[0m\u001b[1;33m(\u001b[0m\u001b[0mself\u001b[0m\u001b[1;33m)\u001b[0m\u001b[1;33m:\u001b[0m\u001b[1;33m\u001b[0m\u001b[0m\n",
      "\u001b[1;31mValueError\u001b[0m: Contour levels must be increasing"
     ]
    },
    {
     "data": {
      "image/png": "[encoded data removed]",
      "text/plain": [
       "<Figure size 432x288 with 1 Axes>"
      ]
     },
     "metadata": {
      "needs_background": "light"
     },
     "output_type": "display_data"
    }
   ],
   "source": [
    "import mglearn\n",
    "x_b = x_train[50:500, [1,2]]\n",
    "y_b = y_train[50:500]\n",
    "\n",
    "lreg = LogisticRegression(penalty = 'l1', C=100)\n",
    "lreg.fit(x_b, y_b)\n",
    "\n",
    "mglearn.plots.plot_2d_separator(lreg, x_b, fill=True, eps=0.5, alpha=.4)\n",
    "mglearn.discrete_scatter(x_b[:, 0], x_b[:, 1], y_b)"
   ]
  },
  {
   "cell_type": "markdown",
   "metadata": {},
   "source": [
    "## 3. Linear SVM Classification"
   ]
  },
  {
   "cell_type": "code",
   "execution_count": 53,
   "metadata": {},
   "outputs": [
    {
     "data": {
      "text/plain": [
       "<matplotlib.legend.Legend at 0x1ee73daaf60>"
      ]
     },
     "execution_count": 53,
     "metadata": {},
     "output_type": "execute_result"
    },
    {
     "data": {
      "image/png": "[encoded data removed]",
      "text/plain": [
       "<Figure size 432x288 with 1 Axes>"
      ]
     },
     "metadata": {
      "needs_background": "light"
     },
     "output_type": "display_data"
    }
   ],
   "source": [
    "mglearn.discrete_scatter(x_train[:, 0], x_train[:, 1], y_train)\n",
    "plt.xlabel(\"Feature 0\")\n",
    "plt.ylabel(\"Feature 1\")\n",
    "plt.legend(['Class 0', 'Class1'])"
   ]
  },
  {
   "cell_type": "code",
   "execution_count": 54,
   "metadata": {},
   "outputs": [
    {
     "name": "stdout",
     "output_type": "stream",
     "text": [
      "Train score: 0.8831\n",
      "Test score: 0.8863\n"
     ]
    }
   ],
   "source": [
    "from sklearn.svm import LinearSVC\n",
    "linear_svm = LinearSVC(C=100)\n",
    "linear_svm.fit(x_train,y_train)\n",
    "print('Train score: {:.4f}'.format(linear_svm.score(x_train,y_train)))\n",
    "print('Test score: {:.4f}'.format(linear_svm.score(x_test,y_test)))"
   ]
  },
  {
   "cell_type": "code",
   "execution_count": 55,
   "metadata": {},
   "outputs": [
    {
     "data": {
      "text/plain": [
       "<matplotlib.legend.Legend at 0x1ee73e25f60>"
      ]
     },
     "execution_count": 55,
     "metadata": {},
     "output_type": "execute_result"
    },
    {
     "data": {
      "image/png": "[encoded data removed]",
      "text/plain": [
       "<Figure size 432x288 with 1 Axes>"
      ]
     },
     "metadata": {
      "needs_background": "light"
     },
     "output_type": "display_data"
    }
   ],
   "source": [
    "mglearn.discrete_scatter(x_train[:, 0], x_train[:, 1], y_train)\n",
    "line = np.linspace(-5, 5)\n",
    "for coef, intercept, color in zip(linear_svm.coef_, linear_svm.intercept_, mglearn.cm3.colors):\n",
    "    plt.plot(line, -(line * coef[0] + intercept) / coef[1], c=color)\n",
    "plt.xlabel(\"Feature 0\")\n",
    "plt.ylabel(\"Feature 1\")\n",
    "plt.legend(['Class 0', 'Class 1'], loc=(1.01, 0.3))"
   ]
  },
  {
   "cell_type": "markdown",
   "metadata": {},
   "source": [
    "## 4. Kernelized SVM Classification"
   ]
  },
  {
   "cell_type": "markdown",
   "metadata": {},
   "source": [
    "### Linear Kernel"
   ]
  },
  {
   "cell_type": "code",
   "execution_count": 56,
   "metadata": {},
   "outputs": [
    {
     "name": "stdout",
     "output_type": "stream",
     "text": [
      "C:0.01\n",
      "Train score: 0.8831,Test score: 0.8863\n",
      "C:0.1\n",
      "Train score: 0.8831,Test score: 0.8863\n",
      "C:1\n",
      "Train score: 0.8831,Test score: 0.8863\n",
      "C:10\n",
      "Train score: 0.8831,Test score: 0.8863\n"
     ]
    }
   ],
   "source": [
    "#kernel = 'Linear'\n",
    "C1 = [0.01,0.1,1,10]\n",
    "\n",
    "for i in C1:\n",
    "    svc = SVC(C=i,kernel='linear')\n",
    "    svc.fit(x_train,y_train)\n",
    "    print('C:{}'.format(i))\n",
    "    print('Train score: {:.4f},Test score: {:.4f}'.format(svc.score(x_train,y_train),svc.score(x_test,y_test)))"
   ]
  },
  {
   "cell_type": "markdown",
   "metadata": {},
   "source": [
    "Best Parameter: C=10"
   ]
  },
  {
   "cell_type": "code",
   "execution_count": 57,
   "metadata": {},
   "outputs": [
    {
     "name": "stdout",
     "output_type": "stream",
     "text": [
      "Train score: 0.8831\n",
      "Test score: 0.8863\n"
     ]
    }
   ],
   "source": [
    "svc_lin = SVC(C=10,kernel='linear')\n",
    "svc_lin.fit(x_train,y_train)\n",
    "print('Train score: {:.4f}'.format(svc_lin.score(x_train, y_train)))\n",
    "print('Test score: {:.4f}'.format(svc_lin.score(x_test, y_test)))"
   ]
  },
  {
   "cell_type": "markdown",
   "metadata": {},
   "source": [
    "### RBF Kernel"
   ]
  },
  {
   "cell_type": "code",
   "execution_count": 58,
   "metadata": {},
   "outputs": [
    {
     "name": "stdout",
     "output_type": "stream",
     "text": [
      "C:0.01,gamma:0.01\n",
      "Train score: 0.8831,Test score: 0.8863\n",
      "C:0.01,gamma:0.1\n",
      "Train score: 0.8831,Test score: 0.8863\n",
      "C:0.01,gamma:1\n",
      "Train score: 0.8831,Test score: 0.8863\n",
      "C:0.01,gamma:10\n",
      "Train score: 0.8831,Test score: 0.8863\n",
      "C:0.1,gamma:0.01\n",
      "Train score: 0.8831,Test score: 0.8863\n",
      "C:0.1,gamma:0.1\n",
      "Train score: 0.8831,Test score: 0.8863\n",
      "C:0.1,gamma:1\n",
      "Train score: 0.8831,Test score: 0.8863\n",
      "C:0.1,gamma:10\n",
      "Train score: 0.8901,Test score: 0.8907\n",
      "C:1,gamma:0.01\n",
      "Train score: 0.8831,Test score: 0.8863\n",
      "C:1,gamma:0.1\n",
      "Train score: 0.8831,Test score: 0.8863\n",
      "C:1,gamma:1\n",
      "Train score: 0.8831,Test score: 0.8863\n",
      "C:1,gamma:10\n",
      "Train score: 0.8918,Test score: 0.8941\n",
      "C:10,gamma:0.01\n",
      "Train score: 0.8831,Test score: 0.8863\n",
      "C:10,gamma:0.1\n",
      "Train score: 0.8831,Test score: 0.8863\n",
      "C:10,gamma:1\n",
      "Train score: 0.8909,Test score: 0.8919\n",
      "C:10,gamma:10\n",
      "Train score: 0.8921,Test score: 0.8930\n"
     ]
    }
   ],
   "source": [
    "#kernal = 'rbf'\n",
    "C1 = [0.01,0.1,1,10]\n",
    "gamma1 = [0.01,0.1,1,10]\n",
    "\n",
    "for i in C1:\n",
    "    for j in gamma1:\n",
    "        svc = SVC(C=i,kernel='rbf',gamma=j)\n",
    "        svc.fit(x_train,y_train)\n",
    "        print('C:{},gamma:{}'.format(i,j))\n",
    "        print('Train score: {:.4f},Test score: {:.4f}'.format(svc.score(x_train,y_train),svc.score(x_test,y_test)))"
   ]
  },
  {
   "cell_type": "markdown",
   "metadata": {},
   "source": [
    "Best Parameter Values: C = 10, gamma = 10"
   ]
  },
  {
   "cell_type": "code",
   "execution_count": 59,
   "metadata": {},
   "outputs": [
    {
     "name": "stdout",
     "output_type": "stream",
     "text": [
      "Train score: 0.8921\n",
      "Test score: 0.8930\n"
     ]
    }
   ],
   "source": [
    "svc_rbf = SVC(C=10,kernel='rbf',gamma = 10)\n",
    "svc_rbf.fit(x_train,y_train)\n",
    "print('Train score: {:.4f}'.format(svc_rbf.score(x_train, y_train)))\n",
    "print('Test score: {:.4f}'.format(svc_rbf.score(x_test, y_test)))"
   ]
  },
  {
   "cell_type": "markdown",
   "metadata": {},
   "source": [
    "### Polynomial Kernel"
   ]
  },
  {
   "cell_type": "code",
   "execution_count": 60,
   "metadata": {},
   "outputs": [
    {
     "name": "stdout",
     "output_type": "stream",
     "text": [
      "C:0.01,gamma:0.01\n",
      "Train score: 0.8831,Test score: 0.8863\n",
      "C:0.01,gamma:0.1\n",
      "Train score: 0.8831,Test score: 0.8863\n",
      "C:0.01,gamma:1\n",
      "Train score: 0.8831,Test score: 0.8863\n",
      "C:0.01,gamma:10\n",
      "Train score: 0.8831,Test score: 0.8863\n",
      "C:0.1,gamma:0.01\n",
      "Train score: 0.8831,Test score: 0.8863\n",
      "C:0.1,gamma:0.1\n",
      "Train score: 0.8831,Test score: 0.8863\n",
      "C:0.1,gamma:1\n",
      "Train score: 0.8831,Test score: 0.8863\n",
      "C:0.1,gamma:10\n",
      "Train score: 0.8834,Test score: 0.8863\n",
      "C:1,gamma:0.01\n",
      "Train score: 0.8831,Test score: 0.8863\n",
      "C:1,gamma:0.1\n",
      "Train score: 0.8831,Test score: 0.8863\n",
      "C:1,gamma:1\n",
      "Train score: 0.8831,Test score: 0.8863\n",
      "C:1,gamma:10\n",
      "Train score: 0.8834,Test score: 0.8863\n",
      "C:10,gamma:0.01\n",
      "Train score: 0.8831,Test score: 0.8863\n",
      "C:10,gamma:0.1\n",
      "Train score: 0.8831,Test score: 0.8863\n",
      "C:10,gamma:1\n",
      "Train score: 0.8831,Test score: 0.8863\n",
      "C:10,gamma:10\n",
      "Train score: 0.8834,Test score: 0.8863\n"
     ]
    }
   ],
   "source": [
    "#kernal = poly\n",
    "C1 = [0.01,0.1,1,10]\n",
    "gamma1 = [0.01,0.1,1,10]\n",
    "\n",
    "for i in C1:\n",
    "    for j in gamma1:\n",
    "        svc = SVC(C=i,kernel='poly',gamma=j)\n",
    "        svc.fit(x_train,y_train)\n",
    "        print('C:{},gamma:{}'.format(i,j))\n",
    "        print('Train score: {:.4f},Test score: {:.4f}'.format(svc.score(x_train,y_train),svc.score(x_test,y_test)))"
   ]
  },
  {
   "cell_type": "markdown",
   "metadata": {},
   "source": [
    "Best Parameter Values: C = 1, gamma = 10"
   ]
  },
  {
   "cell_type": "code",
   "execution_count": 61,
   "metadata": {},
   "outputs": [
    {
     "name": "stdout",
     "output_type": "stream",
     "text": [
      "Train score: 0.8834\n",
      "Test score: 0.8863\n"
     ]
    }
   ],
   "source": [
    "svc_poly = SVC(C=1, kernel='poly', gamma=10)\n",
    "svc_poly.fit(x_train,y_train)\n",
    "print('Train score: {:.4f}'.format(svc_poly.score(x_train, y_train)))\n",
    "print('Test score: {:.4f}'.format(svc_poly.score(x_test, y_test)))"
   ]
  },
  {
   "cell_type": "markdown",
   "metadata": {},
   "source": [
    "## Decision Tree"
   ]
  },
  {
   "cell_type": "code",
   "execution_count": 62,
   "metadata": {},
   "outputs": [
    {
     "name": "stdout",
     "output_type": "stream",
     "text": [
      "Accuracy on training set: 0.8960\n",
      "Accuracy on test set: 0.8829\n"
     ]
    }
   ],
   "source": [
    "dtree = DecisionTreeClassifier(max_depth=4, random_state=0)\n",
    "dtree.fit(x_train, y_train)\n",
    "\n",
    "print(\"Accuracy on training set: {:.4f}\".format(dtree.score(x_train, y_train)))\n",
    "print(\"Accuracy on test set: {:.4f}\".format(dtree.score(x_test, y_test)))"
   ]
  },
  {
   "cell_type": "markdown",
   "metadata": {},
   "source": [
    "## Comparision of Models Before and After PCA"
   ]
  },
  {
   "cell_type": "markdown",
   "metadata": {},
   "source": [
    "### Before PCA"
   ]
  },
  {
   "cell_type": "code",
   "execution_count": 66,
   "metadata": {},
   "outputs": [
    {
     "data": {
      "text/html": [
       "<div>\n",
       "<style scoped>\n",
       "    .dataframe tbody tr th:only-of-type {\n",
       "        vertical-align: middle;\n",
       "    }\n",
       "\n",
       "    .dataframe tbody tr th {\n",
       "        vertical-align: top;\n",
       "    }\n",
       "\n",
       "    .dataframe thead th {\n",
       "        text-align: right;\n",
       "    }\n",
       "</style>\n",
       "<table border=\"1\" class=\"dataframe\">\n",
       "  <thead>\n",
       "    <tr style=\"text-align: right;\">\n",
       "      <th></th>\n",
       "      <th>Models before PCA</th>\n",
       "      <th>Avg.Train Score</th>\n",
       "      <th>Avg_Test_Score</th>\n",
       "    </tr>\n",
       "  </thead>\n",
       "  <tbody>\n",
       "    <tr>\n",
       "      <th>0</th>\n",
       "      <td>KNN classification</td>\n",
       "      <td>0.9085</td>\n",
       "      <td>0.8948</td>\n",
       "    </tr>\n",
       "    <tr>\n",
       "      <th>1</th>\n",
       "      <td>Logistic Regrerssion</td>\n",
       "      <td>0.8893</td>\n",
       "      <td>0.8879</td>\n",
       "    </tr>\n",
       "    <tr>\n",
       "      <th>2</th>\n",
       "      <td>Linear SVM</td>\n",
       "      <td>0.8832</td>\n",
       "      <td>0.8825</td>\n",
       "    </tr>\n",
       "    <tr>\n",
       "      <th>3</th>\n",
       "      <td>SVC - linear</td>\n",
       "      <td>0.8832</td>\n",
       "      <td>0.8825</td>\n",
       "    </tr>\n",
       "    <tr>\n",
       "      <th>4</th>\n",
       "      <td>SVC - rbf</td>\n",
       "      <td>0.9001</td>\n",
       "      <td>0.8934</td>\n",
       "    </tr>\n",
       "    <tr>\n",
       "      <th>5</th>\n",
       "      <td>SVC - poly</td>\n",
       "      <td>0.8835</td>\n",
       "      <td>0.8830</td>\n",
       "    </tr>\n",
       "    <tr>\n",
       "      <th>6</th>\n",
       "      <td>Decision Tree</td>\n",
       "      <td>0.9030</td>\n",
       "      <td>0.8970</td>\n",
       "    </tr>\n",
       "  </tbody>\n",
       "</table>\n",
       "</div>"
      ],
      "text/plain": [
       "      Models before PCA  Avg.Train Score  Avg_Test_Score\n",
       "0    KNN classification           0.9085          0.8948\n",
       "1  Logistic Regrerssion           0.8893          0.8879\n",
       "2            Linear SVM           0.8832          0.8825\n",
       "3          SVC - linear           0.8832          0.8825\n",
       "4             SVC - rbf           0.9001          0.8934\n",
       "5            SVC - poly           0.8835          0.8830\n",
       "6         Decision Tree           0.9030          0.8970"
      ]
     },
     "execution_count": 66,
     "metadata": {},
     "output_type": "execute_result"
    }
   ],
   "source": [
    "Classification = {'Models before PCA':['KNN classification','Logistic Regrerssion','Linear SVM','SVC - linear','SVC - rbf','SVC - poly','Decision Tree'],'Avg.Train Score':[0.9085,0.8893,0.8832,0.8832,0.9001,0.8835,0.903],'Avg_Test_Score':[0.8948,0.8879,0.8825,0.8825,0.8934,0.8830,0.897]}\n",
    "Classification_score = pd.DataFrame(Classification)\n",
    "Classification_score"
   ]
  },
  {
   "cell_type": "markdown",
   "metadata": {},
   "source": [
    "From the above information we conclude Logistic Regeression with L1 penalty and C=100 is our best classification model"
   ]
  },
  {
   "cell_type": "markdown",
   "metadata": {},
   "source": [
    "### After PCA"
   ]
  },
  {
   "cell_type": "code",
   "execution_count": 67,
   "metadata": {},
   "outputs": [
    {
     "data": {
      "text/html": [
       "<div>\n",
       "<style scoped>\n",
       "    .dataframe tbody tr th:only-of-type {\n",
       "        vertical-align: middle;\n",
       "    }\n",
       "\n",
       "    .dataframe tbody tr th {\n",
       "        vertical-align: top;\n",
       "    }\n",
       "\n",
       "    .dataframe thead th {\n",
       "        text-align: right;\n",
       "    }\n",
       "</style>\n",
       "<table border=\"1\" class=\"dataframe\">\n",
       "  <thead>\n",
       "    <tr style=\"text-align: right;\">\n",
       "      <th></th>\n",
       "      <th>Models after PCA</th>\n",
       "      <th>Avg.Train Score</th>\n",
       "      <th>Avg_Test_Score</th>\n",
       "    </tr>\n",
       "  </thead>\n",
       "  <tbody>\n",
       "    <tr>\n",
       "      <th>0</th>\n",
       "      <td>KNN classification</td>\n",
       "      <td>0.9079</td>\n",
       "      <td>0.8774</td>\n",
       "    </tr>\n",
       "    <tr>\n",
       "      <th>1</th>\n",
       "      <td>Logistic Regrerssion</td>\n",
       "      <td>0.8831</td>\n",
       "      <td>0.8863</td>\n",
       "    </tr>\n",
       "    <tr>\n",
       "      <th>2</th>\n",
       "      <td>Linear SVM</td>\n",
       "      <td>0.8831</td>\n",
       "      <td>0.8863</td>\n",
       "    </tr>\n",
       "    <tr>\n",
       "      <th>3</th>\n",
       "      <td>SVC - linear</td>\n",
       "      <td>0.8831</td>\n",
       "      <td>0.8863</td>\n",
       "    </tr>\n",
       "    <tr>\n",
       "      <th>4</th>\n",
       "      <td>SVC - rbf</td>\n",
       "      <td>0.8921</td>\n",
       "      <td>0.8921</td>\n",
       "    </tr>\n",
       "    <tr>\n",
       "      <th>5</th>\n",
       "      <td>SVC - poly</td>\n",
       "      <td>0.8834</td>\n",
       "      <td>0.8863</td>\n",
       "    </tr>\n",
       "    <tr>\n",
       "      <th>6</th>\n",
       "      <td>Decision Tree</td>\n",
       "      <td>0.8960</td>\n",
       "      <td>0.8829</td>\n",
       "    </tr>\n",
       "  </tbody>\n",
       "</table>\n",
       "</div>"
      ],
      "text/plain": [
       "       Models after PCA  Avg.Train Score  Avg_Test_Score\n",
       "0    KNN classification           0.9079          0.8774\n",
       "1  Logistic Regrerssion           0.8831          0.8863\n",
       "2            Linear SVM           0.8831          0.8863\n",
       "3          SVC - linear           0.8831          0.8863\n",
       "4             SVC - rbf           0.8921          0.8921\n",
       "5            SVC - poly           0.8834          0.8863\n",
       "6         Decision Tree           0.8960          0.8829"
      ]
     },
     "execution_count": 67,
     "metadata": {},
     "output_type": "execute_result"
    }
   ],
   "source": [
    "Classification = {'Models after PCA':['KNN classification','Logistic Regrerssion','Linear SVM','SVC - linear','SVC - rbf','SVC - poly','Decision Tree'],'Avg.Train Score':[0.9079,0.8831,0.8831,0.8831,0.8921,0.8834,0.8960],'Avg_Test_Score':[0.8774,0.8863,0.8863,0.8863,0.8921,0.8863,0.8829]}\n",
    "Classification_score = pd.DataFrame(Classification)\n",
    "Classification_score"
   ]
  },
  {
   "cell_type": "markdown",
   "metadata": {},
   "source": [
    "After performing PCA, From the above information we conclude KNN Classification with k=5 is our best classification model"
   ]
  },
  {
   "cell_type": "markdown",
   "metadata": {},
   "source": [
    "#### Before PCA, the models had high accuracies for both test and train. After dimesionality reduction by PCA, there is some loss of information, which resulted in a reduction of the train and test accuracies. So now we have a more genralized model compared to before as we are not considering the components which are not contributing to that much variance (can be considered as noise)."
   ]
  },
  {
   "cell_type": "markdown",
   "metadata": {},
   "source": [
    "# Deep Learning Models"
   ]
  },
  {
   "cell_type": "markdown",
   "metadata": {},
   "source": [
    "## 1. Perceptron"
   ]
  },
  {
   "cell_type": "code",
   "execution_count": 68,
   "metadata": {},
   "outputs": [],
   "source": [
    "import tensorflow as tf\n",
    "from tensorflow.keras import Sequential\n",
    "from tensorflow.keras.layers import Dense"
   ]
  },
  {
   "cell_type": "code",
   "execution_count": 69,
   "metadata": {},
   "outputs": [],
   "source": [
    "x = data.drop('y',axis=1)\n",
    "y = data['y']\n",
    "x_train_org,x_test_org,y_train,y_test= train_test_split(x,y,test_size=0.20,random_state=0)\n",
    "scaler = MinMaxScaler()\n",
    "x_train = scaler.fit_transform(x_train_org)\n",
    "x_test = scaler.transform(x_test_org)"
   ]
  },
  {
   "cell_type": "code",
   "execution_count": 73,
   "metadata": {},
   "outputs": [],
   "source": [
    "#step 1: build model\n",
    "model1 = Sequential()\n",
    "#input layer\n",
    "model1.add(Dense(10, input_dim = 6, activation = 'relu'))\n",
    "#hidden layers\n",
    "#output layer\n",
    "model1.add(Dense(1, activation = 'sigmoid'))"
   ]
  },
  {
   "cell_type": "code",
   "execution_count": 74,
   "metadata": {},
   "outputs": [],
   "source": [
    "#step 2: make computational graph - compile\n",
    "model1.compile(loss= 'binary_crossentropy' , optimizer = 'adam',metrics = ['accuracy'] )"
   ]
  },
  {
   "cell_type": "code",
   "execution_count": 75,
   "metadata": {},
   "outputs": [
    {
     "name": "stdout",
     "output_type": "stream",
     "text": [
      "WARNING:tensorflow:From c:\\users\\vnrak\\appdata\\local\\programs\\python\\python36\\lib\\site-packages\\tensorflow\\python\\ops\\math_ops.py:3066: to_int32 (from tensorflow.python.ops.math_ops) is deprecated and will be removed in a future version.\n",
      "Instructions for updating:\n",
      "Use tf.cast instead.\n",
      "Epoch 1/50\n",
      "3585/3585 [==============================] - 0s 128us/sample - loss: 0.6319 - acc: 0.7467\n",
      "Epoch 2/50\n",
      "3585/3585 [==============================] - 0s 5us/sample - loss: 0.6079 - acc: 0.8820\n",
      "Epoch 3/50\n",
      "3585/3585 [==============================] - 0s 4us/sample - loss: 0.5849 - acc: 0.8831\n",
      "Epoch 4/50\n",
      "3585/3585 [==============================] - 0s 4us/sample - loss: 0.5629 - acc: 0.8831\n",
      "Epoch 5/50\n",
      "3585/3585 [==============================] - 0s 3us/sample - loss: 0.5422 - acc: 0.8831\n",
      "Epoch 6/50\n",
      "3585/3585 [==============================] - 0s 4us/sample - loss: 0.5235 - acc: 0.8831\n",
      "Epoch 7/50\n",
      "3585/3585 [==============================] - 0s 4us/sample - loss: 0.5063 - acc: 0.8831\n",
      "Epoch 8/50\n",
      "3585/3585 [==============================] - 0s 4us/sample - loss: 0.4900 - acc: 0.8831\n",
      "Epoch 9/50\n",
      "3585/3585 [==============================] - 0s 4us/sample - loss: 0.4751 - acc: 0.8831\n",
      "Epoch 10/50\n",
      "3585/3585 [==============================] - 0s 3us/sample - loss: 0.4603 - acc: 0.8831\n",
      "Epoch 11/50\n",
      "3585/3585 [==============================] - 0s 4us/sample - loss: 0.4466 - acc: 0.8831\n",
      "Epoch 12/50\n",
      "3585/3585 [==============================] - 0s 4us/sample - loss: 0.4343 - acc: 0.8831\n",
      "Epoch 13/50\n",
      "3585/3585 [==============================] - 0s 3us/sample - loss: 0.4236 - acc: 0.8831\n",
      "Epoch 14/50\n",
      "3585/3585 [==============================] - 0s 5us/sample - loss: 0.4144 - acc: 0.8831\n",
      "Epoch 15/50\n",
      "3585/3585 [==============================] - 0s 3us/sample - loss: 0.4071 - acc: 0.8831\n",
      "Epoch 16/50\n",
      "3585/3585 [==============================] - 0s 3us/sample - loss: 0.4005 - acc: 0.8831\n",
      "Epoch 17/50\n",
      "3585/3585 [==============================] - 0s 4us/sample - loss: 0.3950 - acc: 0.8831\n",
      "Epoch 18/50\n",
      "3585/3585 [==============================] - 0s 3us/sample - loss: 0.3902 - acc: 0.8831\n",
      "Epoch 19/50\n",
      "3585/3585 [==============================] - 0s 3us/sample - loss: 0.3860 - acc: 0.8831\n",
      "Epoch 20/50\n",
      "3585/3585 [==============================] - 0s 4us/sample - loss: 0.3822 - acc: 0.8831\n",
      "Epoch 21/50\n",
      "3585/3585 [==============================] - 0s 3us/sample - loss: 0.3789 - acc: 0.8831\n",
      "Epoch 22/50\n",
      "3585/3585 [==============================] - 0s 3us/sample - loss: 0.3757 - acc: 0.8831\n",
      "Epoch 23/50\n",
      "3585/3585 [==============================] - 0s 4us/sample - loss: 0.3728 - acc: 0.8831\n",
      "Epoch 24/50\n",
      "3585/3585 [==============================] - 0s 4us/sample - loss: 0.3700 - acc: 0.8831\n",
      "Epoch 25/50\n",
      "3585/3585 [==============================] - 0s 4us/sample - loss: 0.3673 - acc: 0.8831\n",
      "Epoch 26/50\n",
      "3585/3585 [==============================] - 0s 4us/sample - loss: 0.3649 - acc: 0.8831\n",
      "Epoch 27/50\n",
      "3585/3585 [==============================] - 0s 4us/sample - loss: 0.3624 - acc: 0.8831\n",
      "Epoch 28/50\n",
      "3585/3585 [==============================] - 0s 4us/sample - loss: 0.3600 - acc: 0.8831\n",
      "Epoch 29/50\n",
      "3585/3585 [==============================] - 0s 4us/sample - loss: 0.3577 - acc: 0.8831\n",
      "Epoch 30/50\n",
      "3585/3585 [==============================] - 0s 3us/sample - loss: 0.3555 - acc: 0.8831\n",
      "Epoch 31/50\n",
      "3585/3585 [==============================] - 0s 3us/sample - loss: 0.3533 - acc: 0.8831\n",
      "Epoch 32/50\n",
      "3585/3585 [==============================] - 0s 4us/sample - loss: 0.3513 - acc: 0.8831\n",
      "Epoch 33/50\n",
      "3585/3585 [==============================] - 0s 3us/sample - loss: 0.3492 - acc: 0.8831\n",
      "Epoch 34/50\n",
      "3585/3585 [==============================] - 0s 4us/sample - loss: 0.3474 - acc: 0.8831\n",
      "Epoch 35/50\n",
      "3585/3585 [==============================] - 0s 4us/sample - loss: 0.3455 - acc: 0.8831\n",
      "Epoch 36/50\n",
      "3585/3585 [==============================] - 0s 3us/sample - loss: 0.3437 - acc: 0.8831\n",
      "Epoch 37/50\n",
      "3585/3585 [==============================] - 0s 4us/sample - loss: 0.3420 - acc: 0.8831\n",
      "Epoch 38/50\n",
      "3585/3585 [==============================] - 0s 4us/sample - loss: 0.3403 - acc: 0.8831\n",
      "Epoch 39/50\n",
      "3585/3585 [==============================] - 0s 3us/sample - loss: 0.3385 - acc: 0.8831\n",
      "Epoch 40/50\n",
      "3585/3585 [==============================] - 0s 4us/sample - loss: 0.3368 - acc: 0.8831\n",
      "Epoch 41/50\n",
      "3585/3585 [==============================] - 0s 4us/sample - loss: 0.3351 - acc: 0.8831\n",
      "Epoch 42/50\n",
      "3585/3585 [==============================] - 0s 4us/sample - loss: 0.3334 - acc: 0.8831\n",
      "Epoch 43/50\n",
      "3585/3585 [==============================] - 0s 4us/sample - loss: 0.3317 - acc: 0.8834\n",
      "Epoch 44/50\n",
      "3585/3585 [==============================] - 0s 4us/sample - loss: 0.3300 - acc: 0.8834\n",
      "Epoch 45/50\n",
      "3585/3585 [==============================] - 0s 3us/sample - loss: 0.3285 - acc: 0.8837\n",
      "Epoch 46/50\n",
      "3585/3585 [==============================] - 0s 3us/sample - loss: 0.3270 - acc: 0.8837\n",
      "Epoch 47/50\n",
      "3585/3585 [==============================] - 0s 4us/sample - loss: 0.3256 - acc: 0.8840\n",
      "Epoch 48/50\n",
      "3585/3585 [==============================] - 0s 4us/sample - loss: 0.3243 - acc: 0.8837\n",
      "Epoch 49/50\n",
      "3585/3585 [==============================] - 0s 4us/sample - loss: 0.3230 - acc: 0.8837\n",
      "Epoch 50/50\n",
      "3585/3585 [==============================] - 0s 4us/sample - loss: 0.3218 - acc: 0.8842\n"
     ]
    },
    {
     "data": {
      "text/plain": [
       "<tensorflow.python.keras.callbacks.History at 0x1ee7363bef0>"
      ]
     },
     "execution_count": 75,
     "metadata": {},
     "output_type": "execute_result"
    }
   ],
   "source": [
    "#step 3: train the model - fit\n",
    "model1.fit(x_train, y_train, epochs = 50, batch_size = 300)"
   ]
  },
  {
   "cell_type": "code",
   "execution_count": 76,
   "metadata": {},
   "outputs": [
    {
     "name": "stdout",
     "output_type": "stream",
     "text": [
      "897/897 [==============================] - 0s 450us/sample - loss: 0.3200 - acc: 0.8852\n",
      "Test Loss 0.3199628197993988\n",
      "Test Accuracy 0.8851728\n"
     ]
    }
   ],
   "source": [
    "#step 4: evaluation\n",
    "loss_and_metrics = model1.evaluate(x_test, y_test)\n",
    "\n",
    "print(\"Test Loss\", loss_and_metrics[0])\n",
    "print(\"Test Accuracy\", loss_and_metrics[1])"
   ]
  },
  {
   "cell_type": "markdown",
   "metadata": {},
   "source": [
    "## 2. MLP"
   ]
  },
  {
   "cell_type": "code",
   "execution_count": 80,
   "metadata": {},
   "outputs": [],
   "source": [
    "#step 1: build model\n",
    "model2 = Sequential()\n",
    "#input layer\n",
    "model2.add(Dense(20, input_dim = 6, activation = 'relu'))\n",
    "#hidden layers\n",
    "model2.add(Dense(10, activation = 'relu'))\n",
    "model2.add(Dense(5, activation = 'relu'))\n",
    "#output layer\n",
    "model2.add(Dense(1, activation = 'sigmoid'))"
   ]
  },
  {
   "cell_type": "code",
   "execution_count": 81,
   "metadata": {},
   "outputs": [],
   "source": [
    "#step 2: compile the model\n",
    "model2.compile(loss= 'binary_crossentropy' , optimizer = 'adam',metrics = ['accuracy'] )"
   ]
  },
  {
   "cell_type": "code",
   "execution_count": 82,
   "metadata": {},
   "outputs": [
    {
     "name": "stdout",
     "output_type": "stream",
     "text": [
      "Epoch 1/30\n",
      "3585/3585 [==============================] - 0s 54us/sample - loss: 0.6774 - acc: 0.8803\n",
      "Epoch 2/30\n",
      "3585/3585 [==============================] - 0s 8us/sample - loss: 0.6515 - acc: 0.8831\n",
      "Epoch 3/30\n",
      "3585/3585 [==============================] - 0s 9us/sample - loss: 0.6140 - acc: 0.8831\n",
      "Epoch 4/30\n",
      "3585/3585 [==============================] - 0s 8us/sample - loss: 0.5618 - acc: 0.8831\n",
      "Epoch 5/30\n",
      "3585/3585 [==============================] - 0s 7us/sample - loss: 0.5002 - acc: 0.8831\n",
      "Epoch 6/30\n",
      "3585/3585 [==============================] - 0s 8us/sample - loss: 0.4420 - acc: 0.8831\n",
      "Epoch 7/30\n",
      "3585/3585 [==============================] - 0s 8us/sample - loss: 0.4020 - acc: 0.8831\n",
      "Epoch 8/30\n",
      "3585/3585 [==============================] - 0s 8us/sample - loss: 0.3829 - acc: 0.8831\n",
      "Epoch 9/30\n",
      "3585/3585 [==============================] - 0s 8us/sample - loss: 0.3748 - acc: 0.8831\n",
      "Epoch 10/30\n",
      "3585/3585 [==============================] - 0s 7us/sample - loss: 0.3701 - acc: 0.8831\n",
      "Epoch 11/30\n",
      "3585/3585 [==============================] - 0s 8us/sample - loss: 0.3664 - acc: 0.8831\n",
      "Epoch 12/30\n",
      "3585/3585 [==============================] - 0s 7us/sample - loss: 0.3629 - acc: 0.8831\n",
      "Epoch 13/30\n",
      "3585/3585 [==============================] - 0s 7us/sample - loss: 0.3593 - acc: 0.8831\n",
      "Epoch 14/30\n",
      "3585/3585 [==============================] - 0s 8us/sample - loss: 0.3558 - acc: 0.8831\n",
      "Epoch 15/30\n",
      "3585/3585 [==============================] - 0s 8us/sample - loss: 0.3527 - acc: 0.8831\n",
      "Epoch 16/30\n",
      "3585/3585 [==============================] - 0s 9us/sample - loss: 0.3496 - acc: 0.8831\n",
      "Epoch 17/30\n",
      "3585/3585 [==============================] - 0s 8us/sample - loss: 0.3456 - acc: 0.8831\n",
      "Epoch 18/30\n",
      "3585/3585 [==============================] - 0s 9us/sample - loss: 0.3418 - acc: 0.8831\n",
      "Epoch 19/30\n",
      "3585/3585 [==============================] - 0s 8us/sample - loss: 0.3374 - acc: 0.8831\n",
      "Epoch 20/30\n",
      "3585/3585 [==============================] - 0s 9us/sample - loss: 0.3327 - acc: 0.8831\n",
      "Epoch 21/30\n",
      "3585/3585 [==============================] - 0s 9us/sample - loss: 0.3269 - acc: 0.8831\n",
      "Epoch 22/30\n",
      "3585/3585 [==============================] - 0s 9us/sample - loss: 0.3224 - acc: 0.8831\n",
      "Epoch 23/30\n",
      "3585/3585 [==============================] - 0s 9us/sample - loss: 0.3177 - acc: 0.8831\n",
      "Epoch 24/30\n",
      "3585/3585 [==============================] - 0s 8us/sample - loss: 0.3136 - acc: 0.8831\n",
      "Epoch 25/30\n",
      "3585/3585 [==============================] - 0s 8us/sample - loss: 0.3098 - acc: 0.8831\n",
      "Epoch 26/30\n",
      "3585/3585 [==============================] - 0s 7us/sample - loss: 0.3062 - acc: 0.8831\n",
      "Epoch 27/30\n",
      "3585/3585 [==============================] - 0s 7us/sample - loss: 0.3030 - acc: 0.8831\n",
      "Epoch 28/30\n",
      "3585/3585 [==============================] - 0s 8us/sample - loss: 0.3007 - acc: 0.8831\n",
      "Epoch 29/30\n",
      "3585/3585 [==============================] - 0s 8us/sample - loss: 0.2984 - acc: 0.8831\n",
      "Epoch 30/30\n",
      "3585/3585 [==============================] - 0s 7us/sample - loss: 0.2969 - acc: 0.8831\n"
     ]
    },
    {
     "data": {
      "text/plain": [
       "<tensorflow.python.keras.callbacks.History at 0x1ee749e5470>"
      ]
     },
     "execution_count": 82,
     "metadata": {},
     "output_type": "execute_result"
    }
   ],
   "source": [
    "#step 3: train the model\n",
    "model2.fit(x_train, y_train, epochs = 30, batch_size = 150)"
   ]
  },
  {
   "cell_type": "code",
   "execution_count": 83,
   "metadata": {},
   "outputs": [
    {
     "name": "stdout",
     "output_type": "stream",
     "text": [
      "897/897 [==============================] - 0s 72us/sample - loss: 0.2898 - acc: 0.8863\n"
     ]
    },
    {
     "data": {
      "text/plain": [
       "[0.28981072126722657, 0.8862876]"
      ]
     },
     "execution_count": 83,
     "metadata": {},
     "output_type": "execute_result"
    }
   ],
   "source": [
    "#step 4: evaluate\n",
    "model2.evaluate(x_test, y_test)"
   ]
  }
 ],
 "metadata": {
  "kernelspec": {
   "display_name": "Python 3",
   "language": "python",
   "name": "python3"
  },
  "language_info": {
   "codemirror_mode": {
    "name": "ipython",
    "version": 3
   },
   "file_extension": ".py",
   "mimetype": "text/x-python",
   "name": "python",
   "nbconvert_exporter": "python",
   "pygments_lexer": "ipython3",
   "version": "3.7.5"
  }
 },
 "nbformat": 4,
 "nbformat_minor": 2
}
